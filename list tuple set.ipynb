{
 "cells": [
  {
   "cell_type": "code",
   "execution_count": 1,
   "id": "b17a4a54-c20e-4f93-bad9-734a99f4daa9",
   "metadata": {},
   "outputs": [],
   "source": [
    "l=[1,22,33,31,\"sarth\",7+2j, True,22222222221.122]"
   ]
  },
  {
   "cell_type": "code",
   "execution_count": 2,
   "id": "a625566c-3e07-41a7-bd8b-e2cae3bde999",
   "metadata": {},
   "outputs": [
    {
     "data": {
      "text/plain": [
       "[1, 22, 33, 31, 'sarth', (7+2j), 22222222221.122]"
      ]
     },
     "execution_count": 2,
     "metadata": {},
     "output_type": "execute_result"
    }
   ],
   "source": [
    "l"
   ]
  },
  {
   "cell_type": "code",
   "execution_count": 3,
   "id": "b1683d02-c18a-4660-bfd1-62db11ee351d",
   "metadata": {},
   "outputs": [
    {
     "data": {
      "text/plain": [
       "list"
      ]
     },
     "execution_count": 3,
     "metadata": {},
     "output_type": "execute_result"
    }
   ],
   "source": [
    "type(l)"
   ]
  },
  {
   "cell_type": "code",
   "execution_count": 4,
   "id": "dec9000c-6b32-4d0c-b168-577d936d2542",
   "metadata": {},
   "outputs": [
    {
     "data": {
      "text/plain": [
       "1"
      ]
     },
     "execution_count": 4,
     "metadata": {},
     "output_type": "execute_result"
    }
   ],
   "source": [
    "l[0]"
   ]
  },
  {
   "cell_type": "code",
   "execution_count": 5,
   "id": "d5737042-5ecb-4dcc-bf00-f06d19bb6303",
   "metadata": {},
   "outputs": [
    {
     "ename": "IndexError",
     "evalue": "list index out of range",
     "output_type": "error",
     "traceback": [
      "\u001b[0;31m---------------------------------------------------------------------------\u001b[0m",
      "\u001b[0;31mIndexError\u001b[0m                                Traceback (most recent call last)",
      "Cell \u001b[0;32mIn[5], line 1\u001b[0m\n\u001b[0;32m----> 1\u001b[0m \u001b[43ml\u001b[49m\u001b[43m[\u001b[49m\u001b[38;5;241;43m90\u001b[39;49m\u001b[43m]\u001b[49m\n",
      "\u001b[0;31mIndexError\u001b[0m: list index out of range"
     ]
    }
   ],
   "source": [
    "l[90]"
   ]
  },
  {
   "cell_type": "code",
   "execution_count": 6,
   "id": "ffeca0ed-98d5-4091-bfaf-67e4e943a19c",
   "metadata": {},
   "outputs": [
    {
     "data": {
      "text/plain": [
       "[1, 22, 33]"
      ]
     },
     "execution_count": 6,
     "metadata": {},
     "output_type": "execute_result"
    }
   ],
   "source": [
    "l[0:3]"
   ]
  },
  {
   "cell_type": "code",
   "execution_count": 7,
   "id": "0c18ab3f-4ec3-4b12-b804-508c70e45083",
   "metadata": {},
   "outputs": [
    {
     "data": {
      "text/plain": [
       "22222222221.122"
      ]
     },
     "execution_count": 7,
     "metadata": {},
     "output_type": "execute_result"
    }
   ],
   "source": [
    "l[-1]"
   ]
  },
  {
   "cell_type": "code",
   "execution_count": 9,
   "id": "d96dc33d-d9d3-440a-a6ad-0899d9ecb119",
   "metadata": {},
   "outputs": [
    {
     "data": {
      "text/plain": [
       "22222222221.122"
      ]
     },
     "execution_count": 9,
     "metadata": {},
     "output_type": "execute_result"
    }
   ],
   "source": [
    "l[-1]"
   ]
  },
  {
   "cell_type": "code",
   "execution_count": 10,
   "id": "58850826-d1df-4e4c-b539-72d62e196da4",
   "metadata": {},
   "outputs": [
    {
     "data": {
      "text/plain": [
       "[22222222221.122, (7+2j), 'sarth', 31, 33, 22, 1]"
      ]
     },
     "execution_count": 10,
     "metadata": {},
     "output_type": "execute_result"
    }
   ],
   "source": [
    "l[::-1]"
   ]
  },
  {
   "cell_type": "code",
   "execution_count": 11,
   "id": "986fbb9f-04f6-437c-908a-c652fea9168c",
   "metadata": {},
   "outputs": [
    {
     "data": {
      "text/plain": [
       "[1, 33, 'sarth']"
      ]
     },
     "execution_count": 11,
     "metadata": {},
     "output_type": "execute_result"
    }
   ],
   "source": [
    "l[0:-1:2] #starting point 0 and last point -1 and jump is 2"
   ]
  },
  {
   "cell_type": "code",
   "execution_count": 12,
   "id": "8720e265-26ff-4953-8819-58c36bd26def",
   "metadata": {},
   "outputs": [
    {
     "data": {
      "text/plain": [
       "[1, 33, 'sarth', 22222222221.122]"
      ]
     },
     "execution_count": 12,
     "metadata": {},
     "output_type": "execute_result"
    }
   ],
   "source": [
    "l[::2]"
   ]
  },
  {
   "cell_type": "code",
   "execution_count": 13,
   "id": "8bb49f9b-b5e0-4022-8808-59dfae123914",
   "metadata": {},
   "outputs": [],
   "source": [
    "s=\"sarthak\" #string"
   ]
  },
  {
   "cell_type": "code",
   "execution_count": 14,
   "id": "7b95e135-37fe-4285-b06d-60587b1356b1",
   "metadata": {},
   "outputs": [
    {
     "ename": "TypeError",
     "evalue": "can only concatenate list (not \"str\") to list",
     "output_type": "error",
     "traceback": [
      "\u001b[0;31m---------------------------------------------------------------------------\u001b[0m",
      "\u001b[0;31mTypeError\u001b[0m                                 Traceback (most recent call last)",
      "Cell \u001b[0;32mIn[14], line 1\u001b[0m\n\u001b[0;32m----> 1\u001b[0m \u001b[43ml\u001b[49m\u001b[38;5;241;43m+\u001b[39;49m\u001b[43ms\u001b[49m\n",
      "\u001b[0;31mTypeError\u001b[0m: can only concatenate list (not \"str\") to list"
     ]
    }
   ],
   "source": [
    "l+s # in this case 2 differnt data type does not concanete"
   ]
  },
  {
   "cell_type": "code",
   "execution_count": 15,
   "id": "af14d0e0-b1a2-447b-b829-ba3e11ed95c3",
   "metadata": {},
   "outputs": [
    {
     "data": {
      "text/plain": [
       "['s', 'a', 'r', 't', 'h', 'a', 'k']"
      ]
     },
     "execution_count": 15,
     "metadata": {},
     "output_type": "execute_result"
    }
   ],
   "source": [
    "list(s)  "
   ]
  },
  {
   "cell_type": "code",
   "execution_count": 19,
   "id": "d6d53da2-4daa-41c8-a82b-7f90958949a0",
   "metadata": {},
   "outputs": [
    {
     "data": {
      "text/plain": [
       "['s',\n",
       " 'a',\n",
       " 'r',\n",
       " 't',\n",
       " 'h',\n",
       " 'a',\n",
       " 'k',\n",
       " 1,\n",
       " 22,\n",
       " 33,\n",
       " 31,\n",
       " 'sarth',\n",
       " (7+2j),\n",
       " 22222222221.122]"
      ]
     },
     "execution_count": 19,
     "metadata": {},
     "output_type": "execute_result"
    }
   ],
   "source": [
    "list(s)+l # appending dose not possible in this case only particular  word are  concanetr total string does not.Because data structure is not same\n",
    "#one is  string and another is list"
   ]
  },
  {
   "cell_type": "code",
   "execution_count": 20,
   "id": "90795ed3-3ed5-4cfd-b852-67a767530364",
   "metadata": {},
   "outputs": [
    {
     "data": {
      "text/plain": [
       "[1, 22, 33, 31, 'sarth', (7+2j), 22222222221.122]"
      ]
     },
     "execution_count": 20,
     "metadata": {},
     "output_type": "execute_result"
    }
   ],
   "source": [
    "l"
   ]
  },
  {
   "cell_type": "code",
   "execution_count": 21,
   "id": "a4068012-3d2c-4444-90b6-077d8b58d413",
   "metadata": {},
   "outputs": [
    {
     "data": {
      "text/plain": [
       "'sarth'"
      ]
     },
     "execution_count": 21,
     "metadata": {},
     "output_type": "execute_result"
    }
   ],
   "source": [
    "l[4]"
   ]
  },
  {
   "cell_type": "code",
   "execution_count": 22,
   "id": "03691c3d-71ca-4d2a-ac9e-50c0b827d2cd",
   "metadata": {},
   "outputs": [
    {
     "data": {
      "text/plain": [
       "'sa'"
      ]
     },
     "execution_count": 22,
     "metadata": {},
     "output_type": "execute_result"
    }
   ],
   "source": [
    "l[4][0:2]"
   ]
  },
  {
   "cell_type": "code",
   "execution_count": 23,
   "id": "2f5aeece-23ee-4ce5-9250-0e34469fa9b2",
   "metadata": {},
   "outputs": [
    {
     "ename": "IndexError",
     "evalue": "list index out of range",
     "output_type": "error",
     "traceback": [
      "\u001b[0;31m---------------------------------------------------------------------------\u001b[0m",
      "\u001b[0;31mIndexError\u001b[0m                                Traceback (most recent call last)",
      "Cell \u001b[0;32mIn[23], line 1\u001b[0m\n\u001b[0;32m----> 1\u001b[0m \u001b[43ml\u001b[49m\u001b[43m[\u001b[49m\u001b[38;5;241;43m8\u001b[39;49m\u001b[43m]\u001b[49m\n",
      "\u001b[0;31mIndexError\u001b[0m: list index out of range"
     ]
    }
   ],
   "source": [
    "l[8]"
   ]
  },
  {
   "cell_type": "code",
   "execution_count": 24,
   "id": "a9be3312-0037-4f3b-b2b3-11d70a94b6dd",
   "metadata": {},
   "outputs": [
    {
     "ename": "IndexError",
     "evalue": "list index out of range",
     "output_type": "error",
     "traceback": [
      "\u001b[0;31m---------------------------------------------------------------------------\u001b[0m",
      "\u001b[0;31mIndexError\u001b[0m                                Traceback (most recent call last)",
      "Cell \u001b[0;32mIn[24], line 1\u001b[0m\n\u001b[0;32m----> 1\u001b[0m \u001b[43ml\u001b[49m\u001b[43m[\u001b[49m\u001b[38;5;241;43m7\u001b[39;49m\u001b[43m]\u001b[49m\n",
      "\u001b[0;31mIndexError\u001b[0m: list index out of range"
     ]
    }
   ],
   "source": [
    "l[7]"
   ]
  },
  {
   "cell_type": "code",
   "execution_count": 25,
   "id": "9ee409a7-8d89-4864-9b61-6a67ad994e85",
   "metadata": {},
   "outputs": [
    {
     "data": {
      "text/plain": [
       "22222222221.122"
      ]
     },
     "execution_count": 25,
     "metadata": {},
     "output_type": "execute_result"
    }
   ],
   "source": [
    "l[6]"
   ]
  },
  {
   "cell_type": "code",
   "execution_count": 26,
   "id": "f343ac68-46ff-4b11-8b07-f2c3409d10ff",
   "metadata": {},
   "outputs": [
    {
     "data": {
      "text/plain": [
       "[1, 22, 33, 31, 'sarth', (7+2j), 22222222221.122]"
      ]
     },
     "execution_count": 26,
     "metadata": {},
     "output_type": "execute_result"
    }
   ],
   "source": [
    "l"
   ]
  },
  {
   "cell_type": "code",
   "execution_count": 27,
   "id": "5fbec9ba-fc77-401a-8957-23bd95ded245",
   "metadata": {},
   "outputs": [
    {
     "data": {
      "text/plain": [
       "[1, 22, 33, 31, 'sarth', (7+2j), 22222222221.122]"
      ]
     },
     "execution_count": 27,
     "metadata": {},
     "output_type": "execute_result"
    }
   ],
   "source": [
    "l"
   ]
  },
  {
   "cell_type": "code",
   "execution_count": 28,
   "id": "5475201f-2ee0-4065-92a6-8193b10bd53d",
   "metadata": {},
   "outputs": [
    {
     "data": {
      "text/plain": [
       "[1, 22, 33, 31, 'sarth', (7+2j), 22222222221.122]"
      ]
     },
     "execution_count": 28,
     "metadata": {},
     "output_type": "execute_result"
    }
   ],
   "source": [
    "l"
   ]
  },
  {
   "cell_type": "code",
   "execution_count": 29,
   "id": "21c79b82-2c0c-48bc-ab1f-66156e6079fa",
   "metadata": {},
   "outputs": [],
   "source": [
    "m=[1,22,33,31,\"sarth\",7+2j, True,22222222221.122]"
   ]
  },
  {
   "cell_type": "code",
   "execution_count": 30,
   "id": "41d92dac-338f-4354-9cb2-974b599c6827",
   "metadata": {},
   "outputs": [
    {
     "data": {
      "text/plain": [
       "[1, 22, 33, 31, 'sarth', (7+2j), True, 22222222221.122]"
      ]
     },
     "execution_count": 30,
     "metadata": {},
     "output_type": "execute_result"
    }
   ],
   "source": [
    "m"
   ]
  },
  {
   "cell_type": "code",
   "execution_count": 33,
   "id": "ea776658-93e2-4c7a-adf1-bcfc7746d3cb",
   "metadata": {},
   "outputs": [
    {
     "data": {
      "text/plain": [
       "'Tr'"
      ]
     },
     "execution_count": 33,
     "metadata": {},
     "output_type": "execute_result"
    }
   ],
   "source": [
    "str(m[6])[0:2] #we change boolen into string and then slice"
   ]
  },
  {
   "cell_type": "code",
   "execution_count": 34,
   "id": "8e3019e9-5f98-4c13-9902-ae7fb7030e7a",
   "metadata": {},
   "outputs": [
    {
     "data": {
      "text/plain": [
       "22222222221.122"
      ]
     },
     "execution_count": 34,
     "metadata": {},
     "output_type": "execute_result"
    }
   ],
   "source": [
    "m[7]"
   ]
  },
  {
   "cell_type": "code",
   "execution_count": 35,
   "id": "c7c22c2f-589c-4f3a-887c-792e130a6509",
   "metadata": {},
   "outputs": [
    {
     "ename": "TypeError",
     "evalue": "can only concatenate list (not \"int\") to list",
     "output_type": "error",
     "traceback": [
      "\u001b[0;31m---------------------------------------------------------------------------\u001b[0m",
      "\u001b[0;31mTypeError\u001b[0m                                 Traceback (most recent call last)",
      "Cell \u001b[0;32mIn[35], line 1\u001b[0m\n\u001b[0;32m----> 1\u001b[0m \u001b[43ml\u001b[49m\u001b[38;5;241;43m+\u001b[39;49m\u001b[38;5;241;43m22\u001b[39;49m\n",
      "\u001b[0;31mTypeError\u001b[0m: can only concatenate list (not \"int\") to list"
     ]
    }
   ],
   "source": [
    "l+22 #It pertform concanate operation if we mange to change 22 into list. "
   ]
  },
  {
   "cell_type": "code",
   "execution_count": 36,
   "id": "767ff0a2-157f-434e-a6da-c81b1846b4b8",
   "metadata": {},
   "outputs": [],
   "source": [
    "l1=[2,3,5]"
   ]
  },
  {
   "cell_type": "code",
   "execution_count": 37,
   "id": "e8fb738e-467b-4177-933f-298f7509d3fd",
   "metadata": {},
   "outputs": [
    {
     "data": {
      "text/plain": [
       "[2, 3, 5, 1, 22, 33, 31, 'sarth', (7+2j), True, 22222222221.122]"
      ]
     },
     "execution_count": 37,
     "metadata": {},
     "output_type": "execute_result"
    }
   ],
   "source": [
    "l1+m # Appending perform in this case because we convert intteger into lists."
   ]
  },
  {
   "cell_type": "code",
   "execution_count": 38,
   "id": "13a5e16c-6cf8-4e4d-adec-04232bd34054",
   "metadata": {},
   "outputs": [
    {
     "data": {
      "text/plain": [
       "[2, 3, 5, 2, 3, 5, 2, 3, 5]"
      ]
     },
     "execution_count": 38,
     "metadata": {},
     "output_type": "execute_result"
    }
   ],
   "source": [
    "l1*3"
   ]
  },
  {
   "cell_type": "code",
   "execution_count": 39,
   "id": "87fc68ad-50d2-4ac3-b73b-802594744db5",
   "metadata": {},
   "outputs": [
    {
     "data": {
      "text/plain": [
       "8"
      ]
     },
     "execution_count": 39,
     "metadata": {},
     "output_type": "execute_result"
    }
   ],
   "source": [
    "len(m)\n"
   ]
  },
  {
   "cell_type": "code",
   "execution_count": 51,
   "id": "d806018c-d7c8-4e0b-b0db-1c0c5b207362",
   "metadata": {},
   "outputs": [],
   "source": [
    "m.append(8)"
   ]
  },
  {
   "cell_type": "code",
   "execution_count": 52,
   "id": "417ec07e-da5b-4045-acd2-05b55e7f5c7f",
   "metadata": {},
   "outputs": [
    {
     "data": {
      "text/plain": [
       "[1,\n",
       " 22,\n",
       " 33,\n",
       " 31,\n",
       " 'sarth',\n",
       " (7+2j),\n",
       " True,\n",
       " 22222222221.122,\n",
       " 8,\n",
       " 8,\n",
       " 8,\n",
       " 8,\n",
       " 8,\n",
       " 8,\n",
       " 8,\n",
       " 8,\n",
       " 8]"
      ]
     },
     "execution_count": 52,
     "metadata": {},
     "output_type": "execute_result"
    }
   ],
   "source": [
    "m"
   ]
  },
  {
   "cell_type": "code",
   "execution_count": null,
   "id": "a1946799-7569-4582-8b8c-ef8474564a19",
   "metadata": {},
   "outputs": [],
   "source": []
  },
  {
   "cell_type": "code",
   "execution_count": 53,
   "id": "8c63d69b-03d7-4b12-b0dc-149863bb3596",
   "metadata": {},
   "outputs": [],
   "source": [
    "m.append(l1) #if append the data in append case it append data as it is."
   ]
  },
  {
   "cell_type": "code",
   "execution_count": 54,
   "id": "0e968d9d-9ba5-4986-b577-4139d3752d43",
   "metadata": {},
   "outputs": [
    {
     "data": {
      "text/plain": [
       "[1,\n",
       " 22,\n",
       " 33,\n",
       " 31,\n",
       " 'sarth',\n",
       " (7+2j),\n",
       " True,\n",
       " 22222222221.122,\n",
       " 8,\n",
       " 8,\n",
       " 8,\n",
       " 8,\n",
       " 8,\n",
       " 8,\n",
       " 8,\n",
       " 8,\n",
       " 8,\n",
       " [2, 3, 5]]"
      ]
     },
     "execution_count": 54,
     "metadata": {},
     "output_type": "execute_result"
    }
   ],
   "source": [
    "m"
   ]
  },
  {
   "cell_type": "code",
   "execution_count": 59,
   "id": "f9961143-fb3a-4250-9529-381c4c1799fa",
   "metadata": {},
   "outputs": [
    {
     "data": {
      "text/plain": [
       "3"
      ]
     },
     "execution_count": 59,
     "metadata": {},
     "output_type": "execute_result"
    }
   ],
   "source": [
    "m[-1][1]"
   ]
  },
  {
   "cell_type": "code",
   "execution_count": 4,
   "id": "c5341ebb-e123-48f5-92c9-36fc58225e0b",
   "metadata": {},
   "outputs": [
    {
     "ename": "NameError",
     "evalue": "name 'm' is not defined",
     "output_type": "error",
     "traceback": [
      "\u001b[0;31m---------------------------------------------------------------------------\u001b[0m",
      "\u001b[0;31mNameError\u001b[0m                                 Traceback (most recent call last)",
      "Cell \u001b[0;32mIn[4], line 1\u001b[0m\n\u001b[0;32m----> 1\u001b[0m \u001b[43mm\u001b[49m\n",
      "\u001b[0;31mNameError\u001b[0m: name 'm' is not defined"
     ]
    }
   ],
   "source": [
    "m"
   ]
  },
  {
   "cell_type": "code",
   "execution_count": 5,
   "id": "292cfa8c-da12-4e4c-93f2-11b53763aed4",
   "metadata": {},
   "outputs": [],
   "source": []
  },
  {
   "cell_type": "code",
   "execution_count": 6,
   "id": "e2a636f3-19b1-46c7-abac-ac85468740d8",
   "metadata": {},
   "outputs": [
    {
     "ename": "TypeError",
     "evalue": "'int' object is not iterable",
     "output_type": "error",
     "traceback": [
      "\u001b[0;31m---------------------------------------------------------------------------\u001b[0m",
      "\u001b[0;31mTypeError\u001b[0m                                 Traceback (most recent call last)",
      "Cell \u001b[0;32mIn[6], line 1\u001b[0m\n\u001b[0;32m----> 1\u001b[0m \u001b[43mp\u001b[49m\u001b[38;5;241;43m.\u001b[39;49m\u001b[43mextend\u001b[49m\u001b[43m(\u001b[49m\u001b[38;5;241;43m9\u001b[39;49m\u001b[43m)\u001b[49m\n",
      "\u001b[0;31mTypeError\u001b[0m: 'int' object is not iterable"
     ]
    }
   ],
   "source": [
    "p.extend(9)"
   ]
  },
  {
   "cell_type": "code",
   "execution_count": 1,
   "id": "b760940c-ea83-4576-a70c-d4689be08235",
   "metadata": {},
   "outputs": [
    {
     "ename": "NameError",
     "evalue": "name 'p' is not defined",
     "output_type": "error",
     "traceback": [
      "\u001b[0;31m---------------------------------------------------------------------------\u001b[0m",
      "\u001b[0;31mNameError\u001b[0m                                 Traceback (most recent call last)",
      "Cell \u001b[0;32mIn[1], line 1\u001b[0m\n\u001b[0;32m----> 1\u001b[0m \u001b[43mp\u001b[49m\n",
      "\u001b[0;31mNameError\u001b[0m: name 'p' is not defined"
     ]
    }
   ],
   "source": [
    "p\n"
   ]
  },
  {
   "cell_type": "code",
   "execution_count": 2,
   "id": "d27706d9-5da2-4d44-b0f1-f741e7a2de48",
   "metadata": {},
   "outputs": [
    {
     "ename": "NameError",
     "evalue": "name 'p' is not defined",
     "output_type": "error",
     "traceback": [
      "\u001b[0;31m---------------------------------------------------------------------------\u001b[0m",
      "\u001b[0;31mNameError\u001b[0m                                 Traceback (most recent call last)",
      "Cell \u001b[0;32mIn[2], line 1\u001b[0m\n\u001b[0;32m----> 1\u001b[0m \u001b[43mp\u001b[49m\n",
      "\u001b[0;31mNameError\u001b[0m: name 'p' is not defined"
     ]
    }
   ],
   "source": [
    "p"
   ]
  },
  {
   "cell_type": "code",
   "execution_count": 3,
   "id": "719d875b-7665-445c-9a05-651315ff4d7c",
   "metadata": {},
   "outputs": [
    {
     "ename": "NameError",
     "evalue": "name 'm' is not defined",
     "output_type": "error",
     "traceback": [
      "\u001b[0;31m---------------------------------------------------------------------------\u001b[0m",
      "\u001b[0;31mNameError\u001b[0m                                 Traceback (most recent call last)",
      "Cell \u001b[0;32mIn[3], line 1\u001b[0m\n\u001b[0;32m----> 1\u001b[0m \u001b[43mm\u001b[49m\n",
      "\u001b[0;31mNameError\u001b[0m: name 'm' is not defined"
     ]
    }
   ],
   "source": [
    "m"
   ]
  },
  {
   "cell_type": "code",
   "execution_count": 4,
   "id": "0b925128-91fc-4159-b3a5-16be2dc3f3f3",
   "metadata": {},
   "outputs": [
    {
     "ename": "NameError",
     "evalue": "name 'm' is not defined",
     "output_type": "error",
     "traceback": [
      "\u001b[0;31m---------------------------------------------------------------------------\u001b[0m",
      "\u001b[0;31mNameError\u001b[0m                                 Traceback (most recent call last)",
      "Cell \u001b[0;32mIn[4], line 1\u001b[0m\n\u001b[0;32m----> 1\u001b[0m \u001b[43mm\u001b[49m\n",
      "\u001b[0;31mNameError\u001b[0m: name 'm' is not defined"
     ]
    }
   ],
   "source": [
    "m\n"
   ]
  },
  {
   "cell_type": "code",
   "execution_count": 5,
   "id": "c70f5fd3-4a7f-4c11-8b4d-a8bc44b350db",
   "metadata": {},
   "outputs": [],
   "source": [
    "p=[1,22,33,31,\"sarth\",7+2j, True,22222222221.122]\n"
   ]
  },
  {
   "cell_type": "code",
   "execution_count": 6,
   "id": "536f1cfe-3f39-4f2d-9339-405f055a9902",
   "metadata": {},
   "outputs": [
    {
     "data": {
      "text/plain": [
       "[1, 22, 33, 31, 'sarth', (7+2j), True, 22222222221.122]"
      ]
     },
     "execution_count": 6,
     "metadata": {},
     "output_type": "execute_result"
    }
   ],
   "source": [
    "p"
   ]
  },
  {
   "cell_type": "code",
   "execution_count": 11,
   "id": "7c3e4992-db3b-4ec2-ba97-66cd1f41f6cc",
   "metadata": {},
   "outputs": [],
   "source": [
    "p.extend((9,2,1))# data unwraffed in extend case"
   ]
  },
  {
   "cell_type": "code",
   "execution_count": 12,
   "id": "68954e31-a64d-4576-a24d-9569c69d4bfe",
   "metadata": {},
   "outputs": [
    {
     "data": {
      "text/plain": [
       "[1, 22, 33, 31, 'sarth', (7+2j), True, 22222222221.122, 9, 2, 1, 9, 2, 1]"
      ]
     },
     "execution_count": 12,
     "metadata": {},
     "output_type": "execute_result"
    }
   ],
   "source": [
    "p"
   ]
  },
  {
   "cell_type": "code",
   "execution_count": 14,
   "id": "d27ec220-573d-4b6a-bf27-d90a9fbeed2c",
   "metadata": {},
   "outputs": [],
   "source": [
    "l2=[3,6,7]"
   ]
  },
  {
   "cell_type": "code",
   "execution_count": 15,
   "id": "d20dc9f6-ac53-4a32-b90a-51cfebbf7083",
   "metadata": {},
   "outputs": [
    {
     "data": {
      "text/plain": [
       "[3, 6, 7]"
      ]
     },
     "execution_count": 15,
     "metadata": {},
     "output_type": "execute_result"
    }
   ],
   "source": [
    "l2"
   ]
  },
  {
   "cell_type": "code",
   "execution_count": 18,
   "id": "9ca1be2b-473e-47ec-8d75-4ab0605541f9",
   "metadata": {},
   "outputs": [],
   "source": [
    "l2.insert(1,\"sart\")  #insert help to insert data in given postion.in append and extend data load in last postion\n",
    "                        #first parameter '1' shows the which postion we want to insert data,and second parameter\n",
    "                                #'sart' shows the data."
   ]
  },
  {
   "cell_type": "code",
   "execution_count": 21,
   "id": "6f6da30f-b9c7-4b99-a014-6110307c66a4",
   "metadata": {},
   "outputs": [
    {
     "data": {
      "text/plain": [
       "[3, 'sart', 6, 7]"
      ]
     },
     "execution_count": 21,
     "metadata": {},
     "output_type": "execute_result"
    }
   ],
   "source": [
    "l2"
   ]
  },
  {
   "cell_type": "code",
   "execution_count": 22,
   "id": "53365c79-b1a6-40c7-a50a-12d528e17f10",
   "metadata": {},
   "outputs": [],
   "source": [
    "l2.insert(2,[2,3,4])"
   ]
  },
  {
   "cell_type": "code",
   "execution_count": 23,
   "id": "d6e2fd0b-dec9-48dc-a483-f74e7804f4fb",
   "metadata": {},
   "outputs": [
    {
     "data": {
      "text/plain": [
       "[3, 'sart', [2, 3, 4], 6, 7]"
      ]
     },
     "execution_count": 23,
     "metadata": {},
     "output_type": "execute_result"
    }
   ],
   "source": [
    "l2"
   ]
  },
  {
   "cell_type": "code",
   "execution_count": 24,
   "id": "f589d67c-e66b-4c7d-bdb5-0722253e7f86",
   "metadata": {},
   "outputs": [],
   "source": [
    "l2.insert(2,[2,3,4])"
   ]
  },
  {
   "cell_type": "code",
   "execution_count": 25,
   "id": "66c019cb-97ea-4da9-85ad-3a0f1490ff4a",
   "metadata": {},
   "outputs": [
    {
     "data": {
      "text/plain": [
       "[3, 'sart', [2, 3, 4], [2, 3, 4], 6, 7]"
      ]
     },
     "execution_count": 25,
     "metadata": {},
     "output_type": "execute_result"
    }
   ],
   "source": [
    "l2 #in this case last 2 index data will be push ahead."
   ]
  },
  {
   "cell_type": "code",
   "execution_count": 26,
   "id": "08408f4f-d632-4b71-8fc2-661c16975a98",
   "metadata": {},
   "outputs": [],
   "source": [
    "l2.insert(-1,21)\n"
   ]
  },
  {
   "cell_type": "code",
   "execution_count": 27,
   "id": "c3c3c9b6-17bb-4d79-9ab8-a4b5a094756b",
   "metadata": {},
   "outputs": [
    {
     "data": {
      "text/plain": [
       "[3, 'sart', [2, 3, 4], [2, 3, 4], 6, 21, 7]"
      ]
     },
     "execution_count": 27,
     "metadata": {},
     "output_type": "execute_result"
    }
   ],
   "source": [
    "l2"
   ]
  },
  {
   "cell_type": "code",
   "execution_count": 28,
   "id": "32202be4-61df-451b-a290-2e32ad601569",
   "metadata": {},
   "outputs": [
    {
     "data": {
      "text/plain": [
       "7"
      ]
     },
     "execution_count": 28,
     "metadata": {},
     "output_type": "execute_result"
    }
   ],
   "source": [
    "l2.pop()"
   ]
  },
  {
   "cell_type": "code",
   "execution_count": 29,
   "id": "3cd0c6c0-aae5-4c5c-b0b9-69165d84b303",
   "metadata": {},
   "outputs": [
    {
     "data": {
      "text/plain": [
       "[3, 'sart', [2, 3, 4], [2, 3, 4], 6, 21]"
      ]
     },
     "execution_count": 29,
     "metadata": {},
     "output_type": "execute_result"
    }
   ],
   "source": [
    "l2 #removing data from last indexes."
   ]
  },
  {
   "cell_type": "code",
   "execution_count": 30,
   "id": "3c35996d-5589-4f35-ae23-f8226b60e973",
   "metadata": {},
   "outputs": [
    {
     "data": {
      "text/plain": [
       "[2, 3, 4]"
      ]
     },
     "execution_count": 30,
     "metadata": {},
     "output_type": "execute_result"
    }
   ],
   "source": [
    "l2.pop(3)"
   ]
  },
  {
   "cell_type": "code",
   "execution_count": 4,
   "id": "2cdbbfb7-de7c-4994-bef3-eb81334692a3",
   "metadata": {},
   "outputs": [
    {
     "ename": "NameError",
     "evalue": "name 'l2' is not defined",
     "output_type": "error",
     "traceback": [
      "\u001b[0;31m---------------------------------------------------------------------------\u001b[0m",
      "\u001b[0;31mNameError\u001b[0m                                 Traceback (most recent call last)",
      "Cell \u001b[0;32mIn[4], line 1\u001b[0m\n\u001b[0;32m----> 1\u001b[0m \u001b[43ml2\u001b[49m\u001b[38;5;241m.\u001b[39mremove(\u001b[38;5;241m6\u001b[39m)\n",
      "\u001b[0;31mNameError\u001b[0m: name 'l2' is not defined"
     ]
    }
   ],
   "source": [
    "l2.remove(6)"
   ]
  },
  {
   "cell_type": "code",
   "execution_count": 5,
   "id": "1139a619-f4ea-4f1c-81e5-eb2d8a25b79b",
   "metadata": {},
   "outputs": [
    {
     "ename": "NameError",
     "evalue": "name 'l2' is not defined",
     "output_type": "error",
     "traceback": [
      "\u001b[0;31m---------------------------------------------------------------------------\u001b[0m",
      "\u001b[0;31mNameError\u001b[0m                                 Traceback (most recent call last)",
      "Cell \u001b[0;32mIn[5], line 1\u001b[0m\n\u001b[0;32m----> 1\u001b[0m \u001b[43ml2\u001b[49m\n",
      "\u001b[0;31mNameError\u001b[0m: name 'l2' is not defined"
     ]
    }
   ],
   "source": [
    "l2\n"
   ]
  },
  {
   "cell_type": "code",
   "execution_count": 6,
   "id": "6f9e0d71-bf19-423b-b9df-ab86fd0c3129",
   "metadata": {},
   "outputs": [],
   "source": [
    "l3=[3, 'sart', [2, 3, 4], [2, 3, 4], 6, 21]"
   ]
  },
  {
   "cell_type": "code",
   "execution_count": 7,
   "id": "00066d89-d03e-4b4b-a16f-fd6c747d0961",
   "metadata": {},
   "outputs": [
    {
     "data": {
      "text/plain": [
       "[3, 'sart', [2, 3, 4], [2, 3, 4], 6, 21]"
      ]
     },
     "execution_count": 7,
     "metadata": {},
     "output_type": "execute_result"
    }
   ],
   "source": [
    "l3"
   ]
  },
  {
   "cell_type": "code",
   "execution_count": 8,
   "id": "2de2f5c6-3711-441f-b9ec-221cc8e037a4",
   "metadata": {},
   "outputs": [],
   "source": [
    "l3.remove(6)"
   ]
  },
  {
   "cell_type": "code",
   "execution_count": 9,
   "id": "dd1d94d1-80d8-4af7-ba20-ef8a52533f09",
   "metadata": {},
   "outputs": [
    {
     "data": {
      "text/plain": [
       "[3, 'sart', [2, 3, 4], [2, 3, 4], 21]"
      ]
     },
     "execution_count": 9,
     "metadata": {},
     "output_type": "execute_result"
    }
   ],
   "source": [
    "l3 #remove the indivdual element"
   ]
  },
  {
   "cell_type": "code",
   "execution_count": 11,
   "id": "c27b6436-cec1-48db-8e40-d192002b8659",
   "metadata": {},
   "outputs": [
    {
     "ename": "ValueError",
     "evalue": "list.remove(x): x not in list",
     "output_type": "error",
     "traceback": [
      "\u001b[0;31m---------------------------------------------------------------------------\u001b[0m",
      "\u001b[0;31mValueError\u001b[0m                                Traceback (most recent call last)",
      "Cell \u001b[0;32mIn[11], line 1\u001b[0m\n\u001b[0;32m----> 1\u001b[0m \u001b[43ml3\u001b[49m\u001b[38;5;241;43m.\u001b[39;49m\u001b[43mremove\u001b[49m\u001b[43m(\u001b[49m\u001b[38;5;241;43m00\u001b[39;49m\u001b[43m)\u001b[49m\n",
      "\u001b[0;31mValueError\u001b[0m: list.remove(x): x not in list"
     ]
    }
   ],
   "source": [
    "l3.remove(00)"
   ]
  },
  {
   "cell_type": "code",
   "execution_count": 14,
   "id": "2543d7af-8bb3-4577-a231-fada2f2cf9d6",
   "metadata": {},
   "outputs": [],
   "source": [
    "l3[2].remove(3)"
   ]
  },
  {
   "cell_type": "code",
   "execution_count": 13,
   "id": "05622ad9-114d-42f1-88c8-57493fba45ae",
   "metadata": {},
   "outputs": [
    {
     "data": {
      "text/plain": [
       "[3, 'sart', [2, 3, 4], [2, 3, 4], 21]"
      ]
     },
     "execution_count": 13,
     "metadata": {},
     "output_type": "execute_result"
    }
   ],
   "source": [
    "l3"
   ]
  },
  {
   "cell_type": "code",
   "execution_count": 15,
   "id": "eecc8ed0-fc28-476b-be4e-88cd8a93bb5c",
   "metadata": {},
   "outputs": [
    {
     "ename": "AttributeError",
     "evalue": "'str' object has no attribute 'remove'",
     "output_type": "error",
     "traceback": [
      "\u001b[0;31m---------------------------------------------------------------------------\u001b[0m",
      "\u001b[0;31mAttributeError\u001b[0m                            Traceback (most recent call last)",
      "Cell \u001b[0;32mIn[15], line 1\u001b[0m\n\u001b[0;32m----> 1\u001b[0m \u001b[43ml3\u001b[49m\u001b[43m[\u001b[49m\u001b[38;5;241;43m1\u001b[39;49m\u001b[43m]\u001b[49m\u001b[38;5;241;43m.\u001b[39;49m\u001b[43mremove\u001b[49m(\u001b[38;5;124m'\u001b[39m\u001b[38;5;124mrt\u001b[39m\u001b[38;5;124m'\u001b[39m)\n",
      "\u001b[0;31mAttributeError\u001b[0m: 'str' object has no attribute 'remove'"
     ]
    }
   ],
   "source": [
    "l3[1].remove('rt')#list is mutable object and string is not."
   ]
  },
  {
   "cell_type": "code",
   "execution_count": 19,
   "id": "2bbcecca-f749-4ce8-a9e8-e1de759c908d",
   "metadata": {},
   "outputs": [],
   "source": [
    "l3.append(21)"
   ]
  },
  {
   "cell_type": "code",
   "execution_count": 20,
   "id": "4c22d430-b572-4d7b-90ad-e7cf4bbc3142",
   "metadata": {},
   "outputs": [
    {
     "data": {
      "text/plain": [
       "[3, 'sart', [2, 4], [2, 3, 4], 21, 3, 21, 21]"
      ]
     },
     "execution_count": 20,
     "metadata": {},
     "output_type": "execute_result"
    }
   ],
   "source": [
    "l3"
   ]
  },
  {
   "cell_type": "code",
   "execution_count": 21,
   "id": "d3c1014a-047f-410e-8aef-8a59bcbf7d9e",
   "metadata": {},
   "outputs": [],
   "source": [
    "l3.remove(21)"
   ]
  },
  {
   "cell_type": "code",
   "execution_count": 22,
   "id": "c002cdde-6fdb-4677-838b-45d9c6ea991a",
   "metadata": {},
   "outputs": [
    {
     "data": {
      "text/plain": [
       "[3, 'sart', [2, 4], [2, 3, 4], 3, 21, 21]"
      ]
     },
     "execution_count": 22,
     "metadata": {},
     "output_type": "execute_result"
    }
   ],
   "source": [
    "l3"
   ]
  },
  {
   "cell_type": "code",
   "execution_count": 23,
   "id": "722008db-97bf-47c8-860c-3cb6dd4a5446",
   "metadata": {},
   "outputs": [
    {
     "data": {
      "text/plain": [
       "[21, 21, 3, [2, 3, 4], [2, 4], 'sart', 3]"
      ]
     },
     "execution_count": 23,
     "metadata": {},
     "output_type": "execute_result"
    }
   ],
   "source": [
    "l3[::-1]#temporaray reverse"
   ]
  },
  {
   "cell_type": "code",
   "execution_count": 24,
   "id": "15e2071a-64ad-4f92-9938-c777a686ad4d",
   "metadata": {},
   "outputs": [],
   "source": [
    "l3.reverse()#permanat reverse"
   ]
  },
  {
   "cell_type": "code",
   "execution_count": 25,
   "id": "3063ea55-bae7-4981-82b9-c1c90713aab5",
   "metadata": {},
   "outputs": [
    {
     "data": {
      "text/plain": [
       "[21, 21, 3, [2, 3, 4], [2, 4], 'sart', 3]"
      ]
     },
     "execution_count": 25,
     "metadata": {},
     "output_type": "execute_result"
    }
   ],
   "source": [
    "l3"
   ]
  },
  {
   "cell_type": "code",
   "execution_count": 26,
   "id": "1264a863-5dd4-4575-bff2-5fcf0994d8c3",
   "metadata": {},
   "outputs": [],
   "source": [
    "l3=l3[::-1]#permnat reverse"
   ]
  },
  {
   "cell_type": "code",
   "execution_count": 27,
   "id": "8afddfa9-1bd8-4f74-a744-9973e6c93c82",
   "metadata": {},
   "outputs": [
    {
     "data": {
      "text/plain": [
       "[3, 'sart', [2, 4], [2, 3, 4], 3, 21, 21]"
      ]
     },
     "execution_count": 27,
     "metadata": {},
     "output_type": "execute_result"
    }
   ],
   "source": [
    "l3"
   ]
  },
  {
   "cell_type": "code",
   "execution_count": 28,
   "id": "aedcfbc6-b8a6-4d5b-b806-be716c989c17",
   "metadata": {},
   "outputs": [
    {
     "ename": "TypeError",
     "evalue": "'<' not supported between instances of 'str' and 'int'",
     "output_type": "error",
     "traceback": [
      "\u001b[0;31m---------------------------------------------------------------------------\u001b[0m",
      "\u001b[0;31mTypeError\u001b[0m                                 Traceback (most recent call last)",
      "Cell \u001b[0;32mIn[28], line 1\u001b[0m\n\u001b[0;32m----> 1\u001b[0m \u001b[43ml3\u001b[49m\u001b[38;5;241;43m.\u001b[39;49m\u001b[43msort\u001b[49m\u001b[43m(\u001b[49m\u001b[43m)\u001b[49m\n",
      "\u001b[0;31mTypeError\u001b[0m: '<' not supported between instances of 'str' and 'int'"
     ]
    }
   ],
   "source": [
    "l3.sort()"
   ]
  },
  {
   "cell_type": "code",
   "execution_count": 29,
   "id": "efdd8bed-8898-4a2e-aa3e-7beb8449ebde",
   "metadata": {},
   "outputs": [],
   "source": [
    "l4=[34,876,33,98,0,43,6]"
   ]
  },
  {
   "cell_type": "code",
   "execution_count": 30,
   "id": "4ac62cf4-1e85-49dc-af16-988766a41125",
   "metadata": {},
   "outputs": [
    {
     "data": {
      "text/plain": [
       "[34, 876, 33, 98, 0, 43, 6]"
      ]
     },
     "execution_count": 30,
     "metadata": {},
     "output_type": "execute_result"
    }
   ],
   "source": [
    "l4"
   ]
  },
  {
   "cell_type": "code",
   "execution_count": 31,
   "id": "da30d38e-d371-4d49-ae2d-b30f1649abc7",
   "metadata": {},
   "outputs": [],
   "source": [
    "l4.sort() #ascending order"
   ]
  },
  {
   "cell_type": "code",
   "execution_count": 32,
   "id": "96a71255-f038-4619-8a6c-61b7b090476b",
   "metadata": {},
   "outputs": [
    {
     "data": {
      "text/plain": [
       "[0, 6, 33, 34, 43, 98, 876]"
      ]
     },
     "execution_count": 32,
     "metadata": {},
     "output_type": "execute_result"
    }
   ],
   "source": [
    "l4"
   ]
  },
  {
   "cell_type": "code",
   "execution_count": 33,
   "id": "4309a6d8-2dc8-4a26-a9b5-a232c71b61bf",
   "metadata": {},
   "outputs": [],
   "source": [
    "l5=[\"sart\",\"das\",\"fsssa\",\"rwewe\"]"
   ]
  },
  {
   "cell_type": "code",
   "execution_count": 34,
   "id": "cd317a1b-5878-4ba5-a64f-a5d901c06c27",
   "metadata": {},
   "outputs": [
    {
     "data": {
      "text/plain": [
       "['sart', 'das', 'fsssa', 'rwewe']"
      ]
     },
     "execution_count": 34,
     "metadata": {},
     "output_type": "execute_result"
    }
   ],
   "source": [
    "l5"
   ]
  },
  {
   "cell_type": "code",
   "execution_count": 35,
   "id": "4184af14-4f8f-4caf-b5cb-b06c5b053ab9",
   "metadata": {},
   "outputs": [],
   "source": [
    "l5.sort()"
   ]
  },
  {
   "cell_type": "code",
   "execution_count": 36,
   "id": "7afbdb90-dfe4-4d25-84a6-2e6525ad6a79",
   "metadata": {},
   "outputs": [
    {
     "data": {
      "text/plain": [
       "['das', 'fsssa', 'rwewe', 'sart']"
      ]
     },
     "execution_count": 36,
     "metadata": {},
     "output_type": "execute_result"
    }
   ],
   "source": [
    "l5"
   ]
  },
  {
   "cell_type": "code",
   "execution_count": 37,
   "id": "29d5d3fe-df39-433b-8470-dd214fea9db2",
   "metadata": {},
   "outputs": [],
   "source": [
    "l5.sort(reverse=True)"
   ]
  },
  {
   "cell_type": "code",
   "execution_count": 38,
   "id": "629d0a10-f250-4e2e-9024-97d5313b2580",
   "metadata": {},
   "outputs": [
    {
     "data": {
      "text/plain": [
       "['sart', 'rwewe', 'fsssa', 'das']"
      ]
     },
     "execution_count": 38,
     "metadata": {},
     "output_type": "execute_result"
    }
   ],
   "source": [
    "l5"
   ]
  },
  {
   "cell_type": "code",
   "execution_count": 40,
   "id": "e23b2b6e-06f1-478a-929e-1048ce4fbc06",
   "metadata": {},
   "outputs": [
    {
     "data": {
      "text/plain": [
       "0"
      ]
     },
     "execution_count": 40,
     "metadata": {},
     "output_type": "execute_result"
    }
   ],
   "source": [
    "l5.index(\"sart\")"
   ]
  },
  {
   "cell_type": "code",
   "execution_count": 41,
   "id": "c94159c0-8e63-4550-91dd-8818e5c8096f",
   "metadata": {},
   "outputs": [
    {
     "data": {
      "text/plain": [
       "1"
      ]
     },
     "execution_count": 41,
     "metadata": {},
     "output_type": "execute_result"
    }
   ],
   "source": [
    "l5.count(\"sart\")"
   ]
  },
  {
   "cell_type": "code",
   "execution_count": 42,
   "id": "8a9e8d6e-bb2a-42e1-bf66-332678a59104",
   "metadata": {},
   "outputs": [],
   "source": [
    "l6=[3,34,2,4]"
   ]
  },
  {
   "cell_type": "code",
   "execution_count": 44,
   "id": "837258ec-253b-499f-a430-a8a2f990d29b",
   "metadata": {},
   "outputs": [],
   "source": [
    "l6[0]='a' #mutable same memory location changes"
   ]
  },
  {
   "cell_type": "code",
   "execution_count": 45,
   "id": "1b0d0030-079a-4346-9d3f-32188fc97ca7",
   "metadata": {},
   "outputs": [
    {
     "data": {
      "text/plain": [
       "['a', 34, 2, 4]"
      ]
     },
     "execution_count": 45,
     "metadata": {},
     "output_type": "execute_result"
    }
   ],
   "source": [
    "l6"
   ]
  },
  {
   "cell_type": "code",
   "execution_count": 46,
   "id": "765a78a5-8b9a-4b78-a0ee-4f46de119398",
   "metadata": {},
   "outputs": [],
   "source": [
    "s=\"sart\""
   ]
  },
  {
   "cell_type": "code",
   "execution_count": 47,
   "id": "4d887854-875f-45d9-b150-d7e60bc87772",
   "metadata": {},
   "outputs": [
    {
     "ename": "TypeError",
     "evalue": "'str' object does not support item assignment",
     "output_type": "error",
     "traceback": [
      "\u001b[0;31m---------------------------------------------------------------------------\u001b[0m",
      "\u001b[0;31mTypeError\u001b[0m                                 Traceback (most recent call last)",
      "Cell \u001b[0;32mIn[47], line 1\u001b[0m\n\u001b[0;32m----> 1\u001b[0m \u001b[43ms\u001b[49m\u001b[43m[\u001b[49m\u001b[38;5;241;43m0\u001b[39;49m\u001b[43m]\u001b[49m\u001b[38;5;241m=\u001b[39m\u001b[38;5;124m'\u001b[39m\u001b[38;5;124ma\u001b[39m\u001b[38;5;124m'\u001b[39m\n",
      "\u001b[0;31mTypeError\u001b[0m: 'str' object does not support item assignment"
     ]
    }
   ],
   "source": [
    "s[0]='a' #immutable "
   ]
  },
  {
   "cell_type": "code",
   "execution_count": 2,
   "id": "30cc3480-12f8-4ca2-9602-f01c15f2b5dd",
   "metadata": {},
   "outputs": [
    {
     "data": {
      "text/plain": [
       "'aart'"
      ]
     },
     "execution_count": 2,
     "metadata": {},
     "output_type": "execute_result"
    }
   ],
   "source": [
    "s=\"sart\" \n",
    "s.replace('s','a')#this replace create new object it assign in new memeory location"
   ]
  },
  {
   "cell_type": "code",
   "execution_count": 3,
   "id": "d4b3a83c-c3d0-4887-acbf-88ce146f1048",
   "metadata": {},
   "outputs": [
    {
     "data": {
      "text/plain": [
       "'sart'"
      ]
     },
     "execution_count": 3,
     "metadata": {},
     "output_type": "execute_result"
    }
   ],
   "source": [
    "s"
   ]
  },
  {
   "cell_type": "code",
   "execution_count": 4,
   "id": "49ac60fc-8343-4be0-abc4-178c8110d913",
   "metadata": {},
   "outputs": [],
   "source": [
    "t=(4,67,867.98,96,\"sart\",False,4+9j,[2,1,2])"
   ]
  },
  {
   "cell_type": "code",
   "execution_count": 5,
   "id": "5cc5a360-eb59-4aa9-9d2b-d8c59116e759",
   "metadata": {},
   "outputs": [
    {
     "data": {
      "text/plain": [
       "(4, 67, 867.98, 96, 'sart', False, (4+9j), [2, 1, 2])"
      ]
     },
     "execution_count": 5,
     "metadata": {},
     "output_type": "execute_result"
    }
   ],
   "source": [
    "t"
   ]
  },
  {
   "cell_type": "code",
   "execution_count": 6,
   "id": "cf7f688f-c3b2-4fb5-81f9-ca7f80bc7c8d",
   "metadata": {},
   "outputs": [
    {
     "data": {
      "text/plain": [
       "tuple"
      ]
     },
     "execution_count": 6,
     "metadata": {},
     "output_type": "execute_result"
    }
   ],
   "source": [
    "type(t)"
   ]
  },
  {
   "cell_type": "code",
   "execution_count": 7,
   "id": "36c43593-6d05-4dad-8dc6-88b987512241",
   "metadata": {},
   "outputs": [
    {
     "data": {
      "text/plain": [
       "867.98"
      ]
     },
     "execution_count": 7,
     "metadata": {},
     "output_type": "execute_result"
    }
   ],
   "source": [
    "t[2]"
   ]
  },
  {
   "cell_type": "code",
   "execution_count": 8,
   "id": "c6acf48a-4db3-4335-921c-9de3468106c9",
   "metadata": {},
   "outputs": [
    {
     "data": {
      "text/plain": [
       "[2, 1, 2]"
      ]
     },
     "execution_count": 8,
     "metadata": {},
     "output_type": "execute_result"
    }
   ],
   "source": [
    "t[-1]"
   ]
  },
  {
   "cell_type": "code",
   "execution_count": 9,
   "id": "beda1c2d-d613-4565-b22e-1d2659e5f0c7",
   "metadata": {},
   "outputs": [
    {
     "data": {
      "text/plain": [
       "([2, 1, 2], (4+9j), False, 'sart', 96, 867.98, 67, 4)"
      ]
     },
     "execution_count": 9,
     "metadata": {},
     "output_type": "execute_result"
    }
   ],
   "source": [
    "t[::-1]"
   ]
  },
  {
   "cell_type": "code",
   "execution_count": 10,
   "id": "1a31d4f6-1bc6-4799-986a-b58b64e3269d",
   "metadata": {},
   "outputs": [
    {
     "ename": "NameError",
     "evalue": "name 'l6' is not defined",
     "output_type": "error",
     "traceback": [
      "\u001b[0;31m---------------------------------------------------------------------------\u001b[0m",
      "\u001b[0;31mNameError\u001b[0m                                 Traceback (most recent call last)",
      "Cell \u001b[0;32mIn[10], line 1\u001b[0m\n\u001b[0;32m----> 1\u001b[0m \u001b[43ml6\u001b[49m\n",
      "\u001b[0;31mNameError\u001b[0m: name 'l6' is not defined"
     ]
    }
   ],
   "source": [
    "l6"
   ]
  },
  {
   "cell_type": "code",
   "execution_count": 11,
   "id": "4eb78bed-1e12-4914-9902-1534570dafce",
   "metadata": {},
   "outputs": [
    {
     "ename": "NameError",
     "evalue": "name 'l4' is not defined",
     "output_type": "error",
     "traceback": [
      "\u001b[0;31m---------------------------------------------------------------------------\u001b[0m",
      "\u001b[0;31mNameError\u001b[0m                                 Traceback (most recent call last)",
      "Cell \u001b[0;32mIn[11], line 1\u001b[0m\n\u001b[0;32m----> 1\u001b[0m \u001b[43ml4\u001b[49m\n",
      "\u001b[0;31mNameError\u001b[0m: name 'l4' is not defined"
     ]
    }
   ],
   "source": [
    "l4"
   ]
  },
  {
   "cell_type": "code",
   "execution_count": 12,
   "id": "289ab933-f8eb-46b6-8bf1-1d2e8597e086",
   "metadata": {},
   "outputs": [
    {
     "ename": "NameError",
     "evalue": "name 'l3' is not defined",
     "output_type": "error",
     "traceback": [
      "\u001b[0;31m---------------------------------------------------------------------------\u001b[0m",
      "\u001b[0;31mNameError\u001b[0m                                 Traceback (most recent call last)",
      "Cell \u001b[0;32mIn[12], line 1\u001b[0m\n\u001b[0;32m----> 1\u001b[0m \u001b[43ml3\u001b[49m\n",
      "\u001b[0;31mNameError\u001b[0m: name 'l3' is not defined"
     ]
    }
   ],
   "source": [
    "l3"
   ]
  },
  {
   "cell_type": "code",
   "execution_count": 13,
   "id": "31d5ae00-4011-431a-9fb8-72c7b1d17c31",
   "metadata": {},
   "outputs": [
    {
     "ename": "NameError",
     "evalue": "name 'l2' is not defined",
     "output_type": "error",
     "traceback": [
      "\u001b[0;31m---------------------------------------------------------------------------\u001b[0m",
      "\u001b[0;31mNameError\u001b[0m                                 Traceback (most recent call last)",
      "Cell \u001b[0;32mIn[13], line 1\u001b[0m\n\u001b[0;32m----> 1\u001b[0m \u001b[43ml2\u001b[49m\n",
      "\u001b[0;31mNameError\u001b[0m: name 'l2' is not defined"
     ]
    }
   ],
   "source": [
    "l2"
   ]
  },
  {
   "cell_type": "code",
   "execution_count": 14,
   "id": "0e93cf4b-9f6e-4b04-a541-a7d8c0e393b1",
   "metadata": {},
   "outputs": [],
   "source": [
    "l2=[3, 'sart', [2, 3, 4], [2, 3, 4], 6, 21]"
   ]
  },
  {
   "cell_type": "code",
   "execution_count": 15,
   "id": "a9095894-ec1e-4649-b372-d4ec1f79e08d",
   "metadata": {},
   "outputs": [
    {
     "data": {
      "text/plain": [
       "[3, 'sart', [2, 3, 4], [2, 3, 4], 6, 21]"
      ]
     },
     "execution_count": 15,
     "metadata": {},
     "output_type": "execute_result"
    }
   ],
   "source": [
    "l2"
   ]
  },
  {
   "cell_type": "code",
   "execution_count": 16,
   "id": "3bd47846-a919-4ca0-b452-104aab898b13",
   "metadata": {},
   "outputs": [
    {
     "data": {
      "text/plain": [
       "'sart'"
      ]
     },
     "execution_count": 16,
     "metadata": {},
     "output_type": "execute_result"
    }
   ],
   "source": [
    "l2[1]"
   ]
  },
  {
   "cell_type": "code",
   "execution_count": 17,
   "id": "3d5df1ba-ec0b-4f91-8d1e-812ff0cbb621",
   "metadata": {},
   "outputs": [],
   "source": [
    "l2[1]=21"
   ]
  },
  {
   "cell_type": "code",
   "execution_count": 18,
   "id": "be65b301-96fa-41cc-9c97-e782c7a6b9b4",
   "metadata": {},
   "outputs": [
    {
     "data": {
      "text/plain": [
       "[3, 21, [2, 3, 4], [2, 3, 4], 6, 21]"
      ]
     },
     "execution_count": 18,
     "metadata": {},
     "output_type": "execute_result"
    }
   ],
   "source": [
    "l2"
   ]
  },
  {
   "cell_type": "code",
   "execution_count": 19,
   "id": "ed83383f-01a8-4897-a221-ce15d9db75ec",
   "metadata": {},
   "outputs": [
    {
     "data": {
      "text/plain": [
       "(4, 67, 867.98, 96, 'sart', False, (4+9j), [2, 1, 2])"
      ]
     },
     "execution_count": 19,
     "metadata": {},
     "output_type": "execute_result"
    }
   ],
   "source": [
    "t"
   ]
  },
  {
   "cell_type": "code",
   "execution_count": 21,
   "id": "a56f219b-389e-4f1c-b412-f8b8f4d58da2",
   "metadata": {},
   "outputs": [
    {
     "ename": "TypeError",
     "evalue": "'tuple' object does not support item assignment",
     "output_type": "error",
     "traceback": [
      "\u001b[0;31m---------------------------------------------------------------------------\u001b[0m",
      "\u001b[0;31mTypeError\u001b[0m                                 Traceback (most recent call last)",
      "Cell \u001b[0;32mIn[21], line 1\u001b[0m\n\u001b[0;32m----> 1\u001b[0m \u001b[43mt\u001b[49m\u001b[43m[\u001b[49m\u001b[38;5;241;43m0\u001b[39;49m\u001b[43m]\u001b[49m\u001b[38;5;241m=\u001b[39m\u001b[38;5;241m32\u001b[39m\n",
      "\u001b[0;31mTypeError\u001b[0m: 'tuple' object does not support item assignment"
     ]
    }
   ],
   "source": [
    "t[0]=32#immutable object. list is collection and tuple is also collection of data,"
   ]
  },
  {
   "cell_type": "code",
   "execution_count": 22,
   "id": "d8be6472-bc48-40ca-9bf7-99865c7d145d",
   "metadata": {},
   "outputs": [
    {
     "data": {
      "text/plain": [
       "([2, 1, 2], (4+9j), False, 'sart', 96, 867.98, 67, 4)"
      ]
     },
     "execution_count": 22,
     "metadata": {},
     "output_type": "execute_result"
    }
   ],
   "source": [
    "t[::-1]#not mutable "
   ]
  },
  {
   "cell_type": "code",
   "execution_count": 1,
   "id": "17d9a8e6-f9d6-4614-9086-f8052a218dcd",
   "metadata": {},
   "outputs": [
    {
     "ename": "NameError",
     "evalue": "name 't' is not defined",
     "output_type": "error",
     "traceback": [
      "\u001b[0;31m---------------------------------------------------------------------------\u001b[0m",
      "\u001b[0;31mNameError\u001b[0m                                 Traceback (most recent call last)",
      "Cell \u001b[0;32mIn[1], line 1\u001b[0m\n\u001b[0;32m----> 1\u001b[0m \u001b[43mt\u001b[49m\u001b[38;5;241m.\u001b[39mcount()\n",
      "\u001b[0;31mNameError\u001b[0m: name 't' is not defined"
     ]
    }
   ],
   "source": [
    "t.count()"
   ]
  },
  {
   "cell_type": "code",
   "execution_count": 4,
   "id": "daf07fa4-6678-4294-b7b7-fb922dd52062",
   "metadata": {},
   "outputs": [],
   "source": [
    "t=([2, 1, 2], (4+9j), False, 'sart', 96, 867.98, 67, 4)"
   ]
  },
  {
   "cell_type": "code",
   "execution_count": 5,
   "id": "2284e0a8-cb41-49ed-a016-02e3c9d3703b",
   "metadata": {},
   "outputs": [
    {
     "data": {
      "text/plain": [
       "([2, 1, 2], (4+9j), False, 'sart', 96, 867.98, 67, 4)"
      ]
     },
     "execution_count": 5,
     "metadata": {},
     "output_type": "execute_result"
    }
   ],
   "source": [
    "t\n",
    "\n"
   ]
  },
  {
   "cell_type": "code",
   "execution_count": 6,
   "id": "bd761d67-8831-4346-87b1-22c97ca9f3ad",
   "metadata": {},
   "outputs": [
    {
     "data": {
      "text/plain": [
       "0"
      ]
     },
     "execution_count": 6,
     "metadata": {},
     "output_type": "execute_result"
    }
   ],
   "source": [
    "t.count(2)"
   ]
  },
  {
   "cell_type": "code",
   "execution_count": 7,
   "id": "f5ee7e2a-9365-40a5-bca3-b1c79897f7e9",
   "metadata": {},
   "outputs": [
    {
     "data": {
      "text/plain": [
       "2"
      ]
     },
     "execution_count": 7,
     "metadata": {},
     "output_type": "execute_result"
    }
   ],
   "source": [
    "t.index(False)"
   ]
  },
  {
   "cell_type": "code",
   "execution_count": 8,
   "id": "1fdfd054-0f11-49ae-ac08-7fb4cc6f09b0",
   "metadata": {},
   "outputs": [],
   "source": [
    "s1={}#blank curly braces taken as dict."
   ]
  },
  {
   "cell_type": "code",
   "execution_count": 9,
   "id": "5eebfae3-ac10-41c0-bc10-87aba4aab01e",
   "metadata": {},
   "outputs": [
    {
     "data": {
      "text/plain": [
       "dict"
      ]
     },
     "execution_count": 9,
     "metadata": {},
     "output_type": "execute_result"
    }
   ],
   "source": [
    "type(s1)"
   ]
  },
  {
   "cell_type": "code",
   "execution_count": 16,
   "id": "230f9e13-127b-4a2f-b934-bb57430fba28",
   "metadata": {},
   "outputs": [],
   "source": [
    "s={2,3}"
   ]
  },
  {
   "cell_type": "code",
   "execution_count": 17,
   "id": "84df4433-f5cb-4684-a202-e91ba0377c86",
   "metadata": {},
   "outputs": [
    {
     "data": {
      "text/plain": [
       "set"
      ]
     },
     "execution_count": 17,
     "metadata": {},
     "output_type": "execute_result"
    }
   ],
   "source": [
    "type(s)"
   ]
  },
  {
   "cell_type": "code",
   "execution_count": 18,
   "id": "5927b46e-8639-4196-ab46-53841d79f7b0",
   "metadata": {},
   "outputs": [],
   "source": [
    "s3={234,745,\"sart\",5+9j,True,65.98}"
   ]
  },
  {
   "cell_type": "markdown",
   "id": "de334eda-649d-401a-a940-c19a0e0be469",
   "metadata": {},
   "source": [
    "s3"
   ]
  },
  {
   "cell_type": "code",
   "execution_count": 19,
   "id": "2b9d5811-ab6f-4e9e-834a-9b2f085f6449",
   "metadata": {},
   "outputs": [
    {
     "data": {
      "text/plain": [
       "{(5+9j), 234, 65.98, 745, True, 'sart'}"
      ]
     },
     "execution_count": 19,
     "metadata": {},
     "output_type": "execute_result"
    }
   ],
   "source": [
    "s3"
   ]
  },
  {
   "cell_type": "code",
   "execution_count": 20,
   "id": "5964b1d1-b6e4-4d56-8f10-da0967730232",
   "metadata": {},
   "outputs": [
    {
     "ename": "TypeError",
     "evalue": "unhashable type: 'list'",
     "output_type": "error",
     "traceback": [
      "\u001b[0;31m---------------------------------------------------------------------------\u001b[0m",
      "\u001b[0;31mTypeError\u001b[0m                                 Traceback (most recent call last)",
      "Cell \u001b[0;32mIn[20], line 1\u001b[0m\n\u001b[0;32m----> 1\u001b[0m s3\u001b[38;5;241m=\u001b[39m{\u001b[38;5;241m234\u001b[39m,\u001b[38;5;241m745\u001b[39m,\u001b[38;5;124m\"\u001b[39m\u001b[38;5;124msart\u001b[39m\u001b[38;5;124m\"\u001b[39m,\u001b[38;5;241m5\u001b[39m\u001b[38;5;241m+\u001b[39m\u001b[38;5;241m9\u001b[39mj,\u001b[38;5;28;01mTrue\u001b[39;00m,\u001b[38;5;241m65.98\u001b[39m,[\u001b[38;5;241m2\u001b[39m,\u001b[38;5;241m4\u001b[39m,\u001b[38;5;241m2\u001b[39m]}\n",
      "\u001b[0;31mTypeError\u001b[0m: unhashable type: 'list'"
     ]
    }
   ],
   "source": [
    "s3={234,745,\"sart\",5+9j,True,65.98,[2,4,2]}"
   ]
  },
  {
   "cell_type": "code",
   "execution_count": 25,
   "id": "39e402f0-831c-48b9-8bfc-340e0388800a",
   "metadata": {},
   "outputs": [],
   "source": [
    "s6={234,745,\"sart\",5+9j,True,65.98,(9,0,8)} #set is immutable only takes immutable collection that why take tuple collection."
   ]
  },
  {
   "cell_type": "code",
   "execution_count": 26,
   "id": "206ead71-6a86-45c8-b12b-dda3e30df676",
   "metadata": {},
   "outputs": [
    {
     "data": {
      "text/plain": [
       "{(5+9j), (9, 0, 8), 234, 65.98, 745, True, 'sart'}"
      ]
     },
     "execution_count": 26,
     "metadata": {},
     "output_type": "execute_result"
    }
   ],
   "source": [
    "s6"
   ]
  },
  {
   "cell_type": "code",
   "execution_count": 27,
   "id": "57f48746-4be2-4e1e-9d92-261a42c772fb",
   "metadata": {},
   "outputs": [],
   "source": [
    "s3={2,7,9,6,4,8,3,7,6,5,4,8,2,3,2,4,3} #we want only uniqe element? set remove all the duplicate."
   ]
  },
  {
   "cell_type": "code",
   "execution_count": 28,
   "id": "7fb3359e-34d8-44f3-9811-c1aa13885f45",
   "metadata": {},
   "outputs": [
    {
     "data": {
      "text/plain": [
       "{2, 3, 4, 5, 6, 7, 8, 9}"
      ]
     },
     "execution_count": 28,
     "metadata": {},
     "output_type": "execute_result"
    }
   ],
   "source": [
    "s3\n"
   ]
  },
  {
   "cell_type": "code",
   "execution_count": 29,
   "id": "17efa6f0-82b4-43d0-89a5-a89b31683f31",
   "metadata": {},
   "outputs": [],
   "source": [
    "s3={2,7,9,6,4,8,3,7,6,5,4,8,2,3,2,4,3,\"sart\",\"Sart\"}"
   ]
  },
  {
   "cell_type": "code",
   "execution_count": 30,
   "id": "bef3141e-464a-4675-948b-bd160326f663",
   "metadata": {},
   "outputs": [
    {
     "data": {
      "text/plain": [
       "{2, 3, 4, 5, 6, 7, 8, 9, 'Sart', 'sart'}"
      ]
     },
     "execution_count": 30,
     "metadata": {},
     "output_type": "execute_result"
    }
   ],
   "source": [
    "s3"
   ]
  },
  {
   "cell_type": "code",
   "execution_count": 32,
   "id": "1f9ee982-c4bb-4fdd-97cf-8a460d2ddef8",
   "metadata": {},
   "outputs": [
    {
     "data": {
      "text/plain": [
       "{2, 3, 4, 5, 6, 7, 8, 9, 'Sart', 'sart'}"
      ]
     },
     "execution_count": 32,
     "metadata": {},
     "output_type": "execute_result"
    }
   ],
   "source": [
    "set(s3)"
   ]
  },
  {
   "cell_type": "code",
   "execution_count": 34,
   "id": "63fb67b2-87a7-411b-94aa-11603c7274f1",
   "metadata": {},
   "outputs": [],
   "source": [
    "s3=list(set(s3))#typecasting"
   ]
  },
  {
   "cell_type": "code",
   "execution_count": 35,
   "id": "50ba3ae6-7355-4070-8ac0-8bcba48f6815",
   "metadata": {},
   "outputs": [
    {
     "data": {
      "text/plain": [
       "['sart', 2, 3, 4, 5, 6, 7, 8, 9, 'Sart']"
      ]
     },
     "execution_count": 35,
     "metadata": {},
     "output_type": "execute_result"
    }
   ],
   "source": [
    "s3"
   ]
  },
  {
   "cell_type": "code",
   "execution_count": 36,
   "id": "d3e71c03-e12d-45e6-9266-8e18ab296661",
   "metadata": {},
   "outputs": [],
   "source": [
    "set={232,44,13,44,56,23,56,23,7,3,7}#set never arrange the data in ascending order or descending."
   ]
  },
  {
   "cell_type": "code",
   "execution_count": 38,
   "id": "c9c6dcbd-851a-47e8-8c88-a679c7fec4f5",
   "metadata": {},
   "outputs": [
    {
     "data": {
      "text/plain": [
       "{3, 7, 13, 23, 44, 56, 232}"
      ]
     },
     "execution_count": 38,
     "metadata": {},
     "output_type": "execute_result"
    }
   ],
   "source": [
    "set"
   ]
  },
  {
   "cell_type": "code",
   "execution_count": 40,
   "id": "8edf10b1-fd51-4f47-b3e9-49679e8219b7",
   "metadata": {},
   "outputs": [
    {
     "ename": "TypeError",
     "evalue": "'set' object is not subscriptable",
     "output_type": "error",
     "traceback": [
      "\u001b[0;31m---------------------------------------------------------------------------\u001b[0m",
      "\u001b[0;31mTypeError\u001b[0m                                 Traceback (most recent call last)",
      "Cell \u001b[0;32mIn[40], line 1\u001b[0m\n\u001b[0;32m----> 1\u001b[0m \u001b[38;5;28;43mset\u001b[39;49m\u001b[43m[\u001b[49m\u001b[38;5;241;43m0\u001b[39;49m\u001b[43m]\u001b[49m\n",
      "\u001b[0;31mTypeError\u001b[0m: 'set' object is not subscriptable"
     ]
    }
   ],
   "source": [
    "set[0] #indexing opeartion is not working in the case of set."
   ]
  },
  {
   "cell_type": "code",
   "execution_count": 41,
   "id": "a1a879f6-8a42-4b61-9cd8-26775b66c584",
   "metadata": {},
   "outputs": [
    {
     "ename": "TypeError",
     "evalue": "'set' object is not subscriptable",
     "output_type": "error",
     "traceback": [
      "\u001b[0;31m---------------------------------------------------------------------------\u001b[0m",
      "\u001b[0;31mTypeError\u001b[0m                                 Traceback (most recent call last)",
      "Cell \u001b[0;32mIn[41], line 1\u001b[0m\n\u001b[0;32m----> 1\u001b[0m \u001b[38;5;28;43mset\u001b[39;49m\u001b[43m[\u001b[49m\u001b[43m:\u001b[49m\u001b[43m:\u001b[49m\u001b[38;5;241;43m-\u001b[39;49m\u001b[38;5;241;43m1\u001b[39;49m\u001b[43m]\u001b[49m\n",
      "\u001b[0;31mTypeError\u001b[0m: 'set' object is not subscriptable"
     ]
    }
   ],
   "source": [
    "set[::-1]#slicing operation is not working in the case of set."
   ]
  },
  {
   "cell_type": "code",
   "execution_count": 1,
   "id": "ff32d14f-4255-4657-bf57-7907dafc7da4",
   "metadata": {},
   "outputs": [
    {
     "data": {
      "text/plain": [
       "set"
      ]
     },
     "execution_count": 1,
     "metadata": {},
     "output_type": "execute_result"
    }
   ],
   "source": [
    "set"
   ]
  },
  {
   "cell_type": "code",
   "execution_count": 2,
   "id": "5b3a0764-028b-41ad-9ef8-ce0b9452b4b4",
   "metadata": {},
   "outputs": [],
   "source": [
    "set={232,44,13,44,56,23,56,23,7,3,7}"
   ]
  },
  {
   "cell_type": "code",
   "execution_count": 3,
   "id": "31804d22-bace-45a7-82ee-57341f4f2ab4",
   "metadata": {},
   "outputs": [
    {
     "data": {
      "text/plain": [
       "{3, 7, 13, 23, 44, 56, 232}"
      ]
     },
     "execution_count": 3,
     "metadata": {},
     "output_type": "execute_result"
    }
   ],
   "source": [
    "set"
   ]
  },
  {
   "cell_type": "code",
   "execution_count": 4,
   "id": "092f6b72-551f-4ac3-b5de-7c281df86057",
   "metadata": {},
   "outputs": [],
   "source": [
    "set.add(4) #set has hashing set does not have indexing it is unorderd."
   ]
  },
  {
   "cell_type": "code",
   "execution_count": 5,
   "id": "7f8a758a-e749-4f86-9bdb-45906151d945",
   "metadata": {},
   "outputs": [
    {
     "data": {
      "text/plain": [
       "{3, 4, 7, 13, 23, 44, 56, 232}"
      ]
     },
     "execution_count": 5,
     "metadata": {},
     "output_type": "execute_result"
    }
   ],
   "source": [
    "set"
   ]
  },
  {
   "cell_type": "code",
   "execution_count": 7,
   "id": "00d18577-ff7b-4281-b83b-aa8397465b8d",
   "metadata": {},
   "outputs": [],
   "source": [
    "set.remove(7)"
   ]
  },
  {
   "cell_type": "code",
   "execution_count": 8,
   "id": "a004a699-3f85-4e49-8e12-087914391b96",
   "metadata": {},
   "outputs": [
    {
     "data": {
      "text/plain": [
       "{3, 4, 13, 23, 44, 56, 232}"
      ]
     },
     "execution_count": 8,
     "metadata": {},
     "output_type": "execute_result"
    }
   ],
   "source": [
    "set"
   ]
  },
  {
   "cell_type": "code",
   "execution_count": null,
   "id": "6e80629d-1941-437c-b49c-2a7434b1a1cb",
   "metadata": {},
   "outputs": [],
   "source": []
  }
 ],
 "metadata": {
  "kernelspec": {
   "display_name": "Python 3 (ipykernel)",
   "language": "python",
   "name": "python3"
  },
  "language_info": {
   "codemirror_mode": {
    "name": "ipython",
    "version": 3
   },
   "file_extension": ".py",
   "mimetype": "text/x-python",
   "name": "python",
   "nbconvert_exporter": "python",
   "pygments_lexer": "ipython3",
   "version": "3.10.8"
  }
 },
 "nbformat": 4,
 "nbformat_minor": 5
}
