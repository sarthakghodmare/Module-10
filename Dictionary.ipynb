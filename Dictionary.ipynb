{
 "cells": [
  {
   "cell_type": "code",
   "execution_count": 1,
   "id": "bd185e4b-b1ab-40a3-89dc-e16f7ef07598",
   "metadata": {},
   "outputs": [],
   "source": [
    " d={} # if we give linear value it takes as set means without key values."
   ]
  },
  {
   "cell_type": "code",
   "execution_count": 2,
   "id": "6bd2756f-86c8-4113-8198-0705cf4a1d50",
   "metadata": {},
   "outputs": [
    {
     "data": {
      "text/plain": [
       "dict"
      ]
     },
     "execution_count": 2,
     "metadata": {},
     "output_type": "execute_result"
    }
   ],
   "source": [
    "type(d)"
   ]
  },
  {
   "cell_type": "code",
   "execution_count": 3,
   "id": "e19fa367-a7ce-464a-a1b1-5f1125054d67",
   "metadata": {},
   "outputs": [],
   "source": [
    "d1 ={'key':'sart'} #in dictionar key = word and sart =meaning."
   ]
  },
  {
   "cell_type": "code",
   "execution_count": 4,
   "id": "f1c2907b-3604-427a-8bbf-bacf3945f05b",
   "metadata": {},
   "outputs": [
    {
     "data": {
      "text/plain": [
       "{'key': 'sart'}"
      ]
     },
     "execution_count": 4,
     "metadata": {},
     "output_type": "execute_result"
    }
   ],
   "source": [
    "d1"
   ]
  },
  {
   "cell_type": "code",
   "execution_count": 5,
   "id": "aca4a44c-ec2f-494d-b561-c8a68dbc7752",
   "metadata": {},
   "outputs": [],
   "source": [
    "d2={'name':'sarthak','email':'sart@gmail.com','number':421451825}"
   ]
  },
  {
   "cell_type": "code",
   "execution_count": 6,
   "id": "32e35d9e-5765-4125-b2b1-120047135763",
   "metadata": {},
   "outputs": [
    {
     "data": {
      "text/plain": [
       "{'name': 'sarthak', 'email': 'sart@gmail.com', 'number': 421451825}"
      ]
     },
     "execution_count": 6,
     "metadata": {},
     "output_type": "execute_result"
    }
   ],
   "source": [
    "d2"
   ]
  },
  {
   "cell_type": "code",
   "execution_count": 7,
   "id": "d459e7ad-e3c6-44aa-9855-a141ecd3fc3d",
   "metadata": {},
   "outputs": [],
   "source": [
    "d3={213:'sart'} #in keys we can takes  any value string , int, any."
   ]
  },
  {
   "cell_type": "code",
   "execution_count": 9,
   "id": "b0f06a41-313c-4f7e-8c94-804b541c73cb",
   "metadata": {},
   "outputs": [
    {
     "data": {
      "text/plain": [
       "{213: 'sart'}"
      ]
     },
     "execution_count": 9,
     "metadata": {},
     "output_type": "execute_result"
    }
   ],
   "source": [
    "d3"
   ]
  },
  {
   "cell_type": "code",
   "execution_count": 10,
   "id": "d473f7d1-0869-4adb-a333-d548a06769b0",
   "metadata": {},
   "outputs": [
    {
     "ename": "SyntaxError",
     "evalue": "invalid syntax (489389707.py, line 1)",
     "output_type": "error",
     "traceback": [
      "\u001b[0;36m  Cell \u001b[0;32mIn[10], line 1\u001b[0;36m\u001b[0m\n\u001b[0;31m    d3={213:'sart',@31:'asd'}\u001b[0m\n\u001b[0m                   ^\u001b[0m\n\u001b[0;31mSyntaxError\u001b[0m\u001b[0;31m:\u001b[0m invalid syntax\n"
     ]
    }
   ],
   "source": [
    "d3={213:'sart',@31:'asd'} #no special character given to key. then we have to giva them singleor ,double quote to make them string."
   ]
  },
  {
   "cell_type": "code",
   "execution_count": 11,
   "id": "2a3e75dd-3414-447e-84a5-423160919541",
   "metadata": {},
   "outputs": [
    {
     "data": {
      "text/plain": [
       "{213: 'sart', '@31': 'asd'}"
      ]
     },
     "execution_count": 11,
     "metadata": {},
     "output_type": "execute_result"
    }
   ],
   "source": [
    "d3={213:'sart','@31':'asd'}\n",
    "d3"
   ]
  },
  {
   "cell_type": "code",
   "execution_count": 12,
   "id": "c3bf92bb-7941-4e1b-9ac1-4249e11903cf",
   "metadata": {},
   "outputs": [],
   "source": [
    "d3={213:'sart','@31':'asd',True:32}#key can take booelan value."
   ]
  },
  {
   "cell_type": "code",
   "execution_count": 13,
   "id": "48cc0b1c-1532-4501-a27f-39531c1d6a9b",
   "metadata": {},
   "outputs": [
    {
     "data": {
      "text/plain": [
       "{213: 'sart', '@31': 'asd', True: 32}"
      ]
     },
     "execution_count": 13,
     "metadata": {},
     "output_type": "execute_result"
    }
   ],
   "source": [
    "d3"
   ]
  },
  {
   "cell_type": "code",
   "execution_count": 15,
   "id": "6c75a408-bd62-431b-a6a6-e88865c201ea",
   "metadata": {},
   "outputs": [
    {
     "data": {
      "text/plain": [
       "'sart'"
      ]
     },
     "execution_count": 15,
     "metadata": {},
     "output_type": "execute_result"
    }
   ],
   "source": [
    "d3[213]#in dict indexing does not use . in dict for indexing we use keys."
   ]
  },
  {
   "cell_type": "code",
   "execution_count": 16,
   "id": "ee26ca9b-df1f-422b-a2a4-883b3a29323e",
   "metadata": {},
   "outputs": [
    {
     "data": {
      "text/plain": [
       "32"
      ]
     },
     "execution_count": 16,
     "metadata": {},
     "output_type": "execute_result"
    }
   ],
   "source": [
    "d3[True] # in dict if we want to find a meaning then we find word ,similary in dict to find value we call keys."
   ]
  },
  {
   "cell_type": "code",
   "execution_count": 17,
   "id": "5f172467-f7a0-44b1-987f-c40857d06b87",
   "metadata": {},
   "outputs": [
    {
     "data": {
      "text/plain": [
       "32"
      ]
     },
     "execution_count": 17,
     "metadata": {},
     "output_type": "execute_result"
    }
   ],
   "source": [
    "d3[1] #we know that internally python takes True=1 and False =0."
   ]
  },
  {
   "cell_type": "code",
   "execution_count": 1,
   "id": "f4683810-7f66-470c-b235-0385197a84f6",
   "metadata": {},
   "outputs": [],
   "source": [
    "d4={'name':'sarthak','email':'sart@gmail.com','name':'sart'} #dict taken final value."
   ]
  },
  {
   "cell_type": "code",
   "execution_count": 3,
   "id": "195904f0-fc0a-4081-9e81-8cde7c930ada",
   "metadata": {},
   "outputs": [
    {
     "data": {
      "text/plain": [
       "'sart'"
      ]
     },
     "execution_count": 3,
     "metadata": {},
     "output_type": "execute_result"
    }
   ],
   "source": [
    "d4['name']\n"
   ]
  },
  {
   "cell_type": "code",
   "execution_count": 6,
   "id": "5cf97033-11a4-4937-b8d2-9020ac926458",
   "metadata": {},
   "outputs": [],
   "source": [
    "d5={'company':'pw skills','courses':['web dev', 'data science','java']}"
   ]
  },
  {
   "cell_type": "code",
   "execution_count": 7,
   "id": "0a43c770-bd46-43e4-9ea0-d01157f9f2ed",
   "metadata": {},
   "outputs": [
    {
     "data": {
      "text/plain": [
       "{'company': 'pw skills', 'courses': ['web dev', 'data science', 'java']}"
      ]
     },
     "execution_count": 7,
     "metadata": {},
     "output_type": "execute_result"
    }
   ],
   "source": [
    "d5"
   ]
  },
  {
   "cell_type": "code",
   "execution_count": 9,
   "id": "9c241cde-8719-4836-9f58-df401013e714",
   "metadata": {},
   "outputs": [
    {
     "data": {
      "text/plain": [
       "['web dev', 'data science', 'java']"
      ]
     },
     "execution_count": 9,
     "metadata": {},
     "output_type": "execute_result"
    }
   ],
   "source": [
    "d5['courses']"
   ]
  },
  {
   "cell_type": "code",
   "execution_count": 10,
   "id": "3be5b00b-8d27-4106-a4aa-7637800428ca",
   "metadata": {},
   "outputs": [
    {
     "data": {
      "text/plain": [
       "'java'"
      ]
     },
     "execution_count": 10,
     "metadata": {},
     "output_type": "execute_result"
    }
   ],
   "source": [
    "d5['courses'][2]"
   ]
  },
  {
   "cell_type": "code",
   "execution_count": 14,
   "id": "83d22cf9-d3ce-46d8-bdac-805d6bd90f8e",
   "metadata": {},
   "outputs": [],
   "source": [
    "d6={'Numbers':[1,34,24,1,53],'assignment':(9,3,2,3,1),'lauh_date':{23,42,42,42,47},'class+_time':{'web dev':2,'data science':4,'java':7}}"
   ]
  },
  {
   "cell_type": "code",
   "execution_count": 15,
   "id": "47ecb0ee-97dc-462c-9a05-de3198b60c6d",
   "metadata": {},
   "outputs": [
    {
     "data": {
      "text/plain": [
       "{'Numbers': [1, 34, 24, 1, 53],\n",
       " 'assignment': (9, 3, 2, 3, 1),\n",
       " 'lauh_date': {23, 42, 47},\n",
       " 'class+_time': {'web dev': 2, 'data science': 4, 'java': 7}}"
      ]
     },
     "execution_count": 15,
     "metadata": {},
     "output_type": "execute_result"
    }
   ],
   "source": [
    "d6#we can take value as list,tupel,set,dict , we can make hericary."
   ]
  },
  {
   "cell_type": "code",
   "execution_count": 16,
   "id": "51cbee38-7f77-4820-b5f1-e8d710cccb2b",
   "metadata": {},
   "outputs": [
    {
     "data": {
      "text/plain": [
       "{'web dev': 2, 'data science': 4, 'java': 7}"
      ]
     },
     "execution_count": 16,
     "metadata": {},
     "output_type": "execute_result"
    }
   ],
   "source": [
    "d6['class+_time']\n"
   ]
  },
  {
   "cell_type": "code",
   "execution_count": 17,
   "id": "8ce2481b-b5f8-4648-9004-660eaeb6df5c",
   "metadata": {},
   "outputs": [
    {
     "data": {
      "text/plain": [
       "7"
      ]
     },
     "execution_count": 17,
     "metadata": {},
     "output_type": "execute_result"
    }
   ],
   "source": [
    "d6['class+_time']['java']"
   ]
  },
  {
   "cell_type": "code",
   "execution_count": 13,
   "id": "55f3e3b7-55b3-4eb9-81e0-13568a8d5368",
   "metadata": {},
   "outputs": [
    {
     "ename": "NameError",
     "evalue": "name 'd6' is not defined",
     "output_type": "error",
     "traceback": [
      "\u001b[0;31m---------------------------------------------------------------------------\u001b[0m",
      "\u001b[0;31mNameError\u001b[0m                                 Traceback (most recent call last)",
      "Cell \u001b[0;32mIn[13], line 1\u001b[0m\n\u001b[0;32m----> 1\u001b[0m \u001b[43md6\u001b[49m [\u001b[38;5;124m'\u001b[39m\u001b[38;5;124mmentors\u001b[39m\u001b[38;5;124m'\u001b[39m]\u001b[38;5;241m=\u001b[39m[\u001b[38;5;124m\"\u001b[39m\u001b[38;5;124mkris\u001b[39m\u001b[38;5;124m\"\u001b[39m,\u001b[38;5;124m\"\u001b[39m\u001b[38;5;124msudhanshu\u001b[39m\u001b[38;5;124m\"\u001b[39m,\u001b[38;5;124m\"\u001b[39m\u001b[38;5;124makil\u001b[39m\u001b[38;5;124m\"\u001b[39m]\n",
      "\u001b[0;31mNameError\u001b[0m: name 'd6' is not defined"
     ]
    }
   ],
   "source": [
    "d6 ['mentors']=[\"kris\",\"sudhanshu\",\"akil\"]"
   ]
  },
  {
   "cell_type": "code",
   "execution_count": 14,
   "id": "90475891-b129-453b-bfd9-b29931d844f8",
   "metadata": {},
   "outputs": [
    {
     "ename": "NameError",
     "evalue": "name 'd6' is not defined",
     "output_type": "error",
     "traceback": [
      "\u001b[0;31m---------------------------------------------------------------------------\u001b[0m",
      "\u001b[0;31mNameError\u001b[0m                                 Traceback (most recent call last)",
      "Cell \u001b[0;32mIn[14], line 1\u001b[0m\n\u001b[0;32m----> 1\u001b[0m \u001b[43md6\u001b[49m\n",
      "\u001b[0;31mNameError\u001b[0m: name 'd6' is not defined"
     ]
    }
   ],
   "source": [
    "d6"
   ]
  },
  {
   "cell_type": "code",
   "execution_count": 15,
   "id": "99dbc88a-a8e3-491f-85e7-68e1b261e194",
   "metadata": {},
   "outputs": [],
   "source": [
    "d7={'Numbers':[1,34,24,1,53],'assignment':(9,3,2,3,1),'lauh_date':{23,42,42,42,47},'class+_time':{'web dev':2,'data science':4,'java':7}}"
   ]
  },
  {
   "cell_type": "code",
   "execution_count": 16,
   "id": "b1cb344d-f654-4f07-988a-3729102bf8bb",
   "metadata": {},
   "outputs": [
    {
     "data": {
      "text/plain": [
       "{'Numbers': [1, 34, 24, 1, 53],\n",
       " 'assignment': (9, 3, 2, 3, 1),\n",
       " 'lauh_date': {23, 42, 47},\n",
       " 'class+_time': {'web dev': 2, 'data science': 4, 'java': 7}}"
      ]
     },
     "execution_count": 16,
     "metadata": {},
     "output_type": "execute_result"
    }
   ],
   "source": [
    "d7"
   ]
  },
  {
   "cell_type": "code",
   "execution_count": 17,
   "id": "71a5f892-3b6c-4061-8555-2be0974d19a1",
   "metadata": {},
   "outputs": [],
   "source": [
    "d7['mentors']=[\"kris\",\"sudhanshu\",\"akil\"] # adding a new key,#if key avaialble then it is updated , unique."
   ]
  },
  {
   "cell_type": "code",
   "execution_count": 18,
   "id": "b5bace71-f830-49bd-8bae-8112664f9d6c",
   "metadata": {},
   "outputs": [
    {
     "data": {
      "text/plain": [
       "{'Numbers': [1, 34, 24, 1, 53],\n",
       " 'assignment': (9, 3, 2, 3, 1),\n",
       " 'lauh_date': {23, 42, 47},\n",
       " 'class+_time': {'web dev': 2, 'data science': 4, 'java': 7},\n",
       " 'mentors': ['kris', 'sudhanshu', 'akil']}"
      ]
     },
     "execution_count": 18,
     "metadata": {},
     "output_type": "execute_result"
    }
   ],
   "source": [
    "d7"
   ]
  },
  {
   "cell_type": "code",
   "execution_count": 19,
   "id": "6c4844b2-8601-4b87-a9ea-1e4fa973c065",
   "metadata": {},
   "outputs": [
    {
     "data": {
      "text/plain": [
       "dict_keys(['Numbers', 'assignment', 'lauh_date', 'class+_time', 'mentors'])"
      ]
     },
     "execution_count": 19,
     "metadata": {},
     "output_type": "execute_result"
    }
   ],
   "source": [
    "d7.keys()"
   ]
  },
  {
   "cell_type": "code",
   "execution_count": 20,
   "id": "6de88fe1-3167-48c8-95f3-7bde6d47dffe",
   "metadata": {},
   "outputs": [
    {
     "data": {
      "text/plain": [
       "['Numbers', 'assignment', 'lauh_date', 'class+_time', 'mentors']"
      ]
     },
     "execution_count": 20,
     "metadata": {},
     "output_type": "execute_result"
    }
   ],
   "source": [
    "list(d7.keys())"
   ]
  },
  {
   "cell_type": "code",
   "execution_count": 21,
   "id": "98cd1407-d3a7-468a-8465-c3626baf3fca",
   "metadata": {},
   "outputs": [
    {
     "data": {
      "text/plain": [
       "[[1, 34, 24, 1, 53],\n",
       " (9, 3, 2, 3, 1),\n",
       " {23, 42, 47},\n",
       " {'web dev': 2, 'data science': 4, 'java': 7},\n",
       " ['kris', 'sudhanshu', 'akil']]"
      ]
     },
     "execution_count": 21,
     "metadata": {},
     "output_type": "execute_result"
    }
   ],
   "source": [
    "list(d7.values())"
   ]
  },
  {
   "cell_type": "code",
   "execution_count": 22,
   "id": "393d6810-21e9-4cdc-8a10-6abdf7704a40",
   "metadata": {},
   "outputs": [
    {
     "data": {
      "text/plain": [
       "[('Numbers', [1, 34, 24, 1, 53]),\n",
       " ('assignment', (9, 3, 2, 3, 1)),\n",
       " ('lauh_date', {23, 42, 47}),\n",
       " ('class+_time', {'web dev': 2, 'data science': 4, 'java': 7}),\n",
       " ('mentors', ['kris', 'sudhanshu', 'akil'])]"
      ]
     },
     "execution_count": 22,
     "metadata": {},
     "output_type": "execute_result"
    }
   ],
   "source": [
    "list(d7.items())"
   ]
  },
  {
   "cell_type": "code",
   "execution_count": 24,
   "id": "c07a47b7-3ad9-4cc7-bd99-647f7e38bd2a",
   "metadata": {},
   "outputs": [
    {
     "ename": "TypeError",
     "evalue": "pop expected at least 1 argument, got 0",
     "output_type": "error",
     "traceback": [
      "\u001b[0;31m---------------------------------------------------------------------------\u001b[0m",
      "\u001b[0;31mTypeError\u001b[0m                                 Traceback (most recent call last)",
      "Cell \u001b[0;32mIn[24], line 1\u001b[0m\n\u001b[0;32m----> 1\u001b[0m \u001b[43md7\u001b[49m\u001b[38;5;241;43m.\u001b[39;49m\u001b[43mpop\u001b[49m\u001b[43m(\u001b[49m\u001b[43m)\u001b[49m\n",
      "\u001b[0;31mTypeError\u001b[0m: pop expected at least 1 argument, got 0"
     ]
    }
   ],
   "source": [
    "d7.pop() # in list ,pop  takes the last value. in dict it is mandatory to give some value.in paraythesis()."
   ]
  },
  {
   "cell_type": "code",
   "execution_count": 4,
   "id": "40ba9396-2eb3-499a-b8ce-66069de1adb0",
   "metadata": {},
   "outputs": [
    {
     "name": "stdout",
     "output_type": "stream",
     "text": [
      " you will be batch of A1 batch\n"
     ]
    }
   ],
   "source": [
    "marks=60\n",
    "if marks >= 80:\n",
    "    print(\" you will be batch of A0 batch\")\n",
    "elif marks >= 60 and marks <=80:\n",
    "    print(\" you will be batch of A1 batch\")\n",
    "elif marks >=40 and marks <60:\n",
    "    print(\" you will be batch of A2 batch\")\n",
    "else:\n",
    "    print(\"you will be batch of  A3 batch\")"
   ]
  },
  {
   "cell_type": "code",
   "execution_count": null,
   "id": "707b5fb2-a5f2-4311-9136-c131f0a4d07f",
   "metadata": {},
   "outputs": [],
   "source": [
    "marks=input(\"Enter yor marks\"  ) # input convert into string.\n",
    "if marks >= 80:\n",
    "    print(\" you will be batch of A0 batch\")\n",
    "elif marks >= 60 and marks <=80:\n",
    "    print(\" you will be batch of A1 batch\")\n",
    "elif marks >=40 and marks <60:\n",
    "    print(\" you will be batch of A2 batch\")\n",
    "else:\n",
    "    print(\"you will be batch of  A3 batch\")"
   ]
  },
  {
   "cell_type": "code",
   "execution_count": 5,
   "id": "4a840173-4b86-4a9d-aeec-8e061a40f770",
   "metadata": {},
   "outputs": [
    {
     "name": "stdin",
     "output_type": "stream",
     "text": [
      "Enter yor marks 45\n"
     ]
    }
   ],
   "source": [
    "marks=input(\"Enter yor marks\"  ) \n"
   ]
  },
  {
   "cell_type": "code",
   "execution_count": 6,
   "id": "02cba795-1d99-4b46-8f5e-4e331d9cdd2b",
   "metadata": {},
   "outputs": [
    {
     "data": {
      "text/plain": [
       "'45'"
      ]
     },
     "execution_count": 6,
     "metadata": {},
     "output_type": "execute_result"
    }
   ],
   "source": [
    "marks"
   ]
  },
  {
   "cell_type": "code",
   "execution_count": 7,
   "id": "f53c5708-1b6d-49ab-a90f-ef77e5606d53",
   "metadata": {},
   "outputs": [
    {
     "data": {
      "text/plain": [
       "str"
      ]
     },
     "execution_count": 7,
     "metadata": {},
     "output_type": "execute_result"
    }
   ],
   "source": [
    "type(marks)\n"
   ]
  },
  {
   "cell_type": "markdown",
   "id": "7b3077c3-a23d-42f5-8217-fdae235608b1",
   "metadata": {},
   "source": [
    "marks=int(input(\"Enter yor marks\" ) )\n"
   ]
  },
  {
   "cell_type": "code",
   "execution_count": 9,
   "id": "125ef261-86c8-4647-ba5d-047434a6f3c9",
   "metadata": {},
   "outputs": [
    {
     "data": {
      "text/plain": [
       "45"
      ]
     },
     "execution_count": 9,
     "metadata": {},
     "output_type": "execute_result"
    }
   ],
   "source": [
    "marks\n"
   ]
  },
  {
   "cell_type": "code",
   "execution_count": 10,
   "id": "85057c05-0a68-4144-8f28-7a55908bf86c",
   "metadata": {},
   "outputs": [
    {
     "data": {
      "text/plain": [
       "int"
      ]
     },
     "execution_count": 10,
     "metadata": {},
     "output_type": "execute_result"
    }
   ],
   "source": [
    "type (marks)"
   ]
  },
  {
   "cell_type": "code",
   "execution_count": 12,
   "id": "fc220bbd-b53b-44cb-8401-51eb97139cf1",
   "metadata": {},
   "outputs": [
    {
     "name": "stdin",
     "output_type": "stream",
     "text": [
      "Enter yor marks 70\n"
     ]
    },
    {
     "name": "stdout",
     "output_type": "stream",
     "text": [
      " you will be batch of A1 batch\n"
     ]
    }
   ],
   "source": [
    "marks=int(input(\"Enter yor marks\"  )) # input convert into string.\n",
    "if marks >= 80:\n",
    "    print(\" you will be batch of A0 batch\")\n",
    "elif marks >= 60 and marks <=80:\n",
    "    print(\" you will be batch of A1 batch\") # Refreance the 'And' truth table.\n",
    "elif marks >=40 and marks <60:\n",
    "    print(\" you will be batch of A2 batch\")\n",
    "else:\n",
    "    print(\"you will be batch of  A3 batch\")"
   ]
  },
  {
   "cell_type": "code",
   "execution_count": 1,
   "id": "face7810-324f-4b23-af68-3a46bb692cda",
   "metadata": {},
   "outputs": [
    {
     "data": {
      "text/plain": [
       "False"
      ]
     },
     "execution_count": 1,
     "metadata": {},
     "output_type": "execute_result"
    }
   ],
   "source": [
    "10>=80"
   ]
  },
  {
   "cell_type": "code",
   "execution_count": 4,
   "id": "01c96fef-40a6-4a9c-9646-d16f0a7c0f4d",
   "metadata": {},
   "outputs": [
    {
     "name": "stdin",
     "output_type": "stream",
     "text": [
      "enter your pice 12000\n"
     ]
    },
    {
     "name": "stdout",
     "output_type": "stream",
     "text": [
      " I will not purchase\n"
     ]
    }
   ],
   "source": [
    "price =int(input(\"enter your pice\"))\n",
    "if price >10000:\n",
    "    print(\" I will not purchase\")\n",
    "else:\n",
    "    print(\" I will  purchase\")"
   ]
  },
  {
   "cell_type": "code",
   "execution_count": 7,
   "id": "e05d4c54-f815-4bec-8d60-473e19f54fdd",
   "metadata": {},
   "outputs": [
    {
     "name": "stdin",
     "output_type": "stream",
     "text": [
      "enter your pice 290\n"
     ]
    }
   ],
   "source": [
    "price =int(input(\"enter your pice\"))\n",
    "if price >10000:\n",
    "    print(\" I will not purchase\")\n",
    "    "
   ]
  },
  {
   "cell_type": "code",
   "execution_count": 10,
   "id": "3b0a1196-a4d0-4d8e-8952-bd04d4aead6d",
   "metadata": {},
   "outputs": [
    {
     "name": "stdin",
     "output_type": "stream",
     "text": [
      "enter your pice 6000\n"
     ]
    },
    {
     "name": "stdout",
     "output_type": "stream",
     "text": [
      " I will not purchase\n",
      "this to much\n"
     ]
    }
   ],
   "source": [
    "price =int(input(\"enter your pice\"))\n",
    "if price >1000:\n",
    "    print(\" I will not purchase\")#nested if\n",
    "    if price >5000:\n",
    "        print(\"this to much\")\n",
    "    \n",
    "    "
   ]
  },
  {
   "cell_type": "code",
   "execution_count": 14,
   "id": "4b3985d6-35f7-486c-ad81-ded78f448df4",
   "metadata": {},
   "outputs": [
    {
     "name": "stdin",
     "output_type": "stream",
     "text": [
      "enter your pice 500\n"
     ]
    },
    {
     "name": "stdout",
     "output_type": "stream",
     "text": [
      " I will not purchase\n"
     ]
    }
   ],
   "source": [
    "price =int(input(\"enter your pice\"))\n",
    "if price >1000: #if is always be stariting statement.\n",
    "    print(\" I will  purchase\")#nested if\n",
    "    if price >5000:\n",
    "        print(\"this to much\")\n",
    "    elif price <2000:\n",
    "        print(\"it ok\")\n",
    "elif price < 1000:\n",
    "    print(\" I will not purchase\")\n",
    "else :\n",
    "    print(\"not intrested\")\n",
    "    "
   ]
  },
  {
   "cell_type": "code",
   "execution_count": 15,
   "id": "7cdc5ae6-ea1e-475d-bad9-d7289c9ed996",
   "metadata": {},
   "outputs": [],
   "source": [
    "l=[1,2,3,4,5,6,7,8,9]\n"
   ]
  },
  {
   "cell_type": "code",
   "execution_count": 16,
   "id": "d28ebe21-188f-41c1-ad86-406f3019a360",
   "metadata": {},
   "outputs": [
    {
     "data": {
      "text/plain": [
       "2"
      ]
     },
     "execution_count": 16,
     "metadata": {},
     "output_type": "execute_result"
    }
   ],
   "source": [
    "l[0]+1\n"
   ]
  },
  {
   "cell_type": "code",
   "execution_count": 18,
   "id": "459b6aa5-daff-46c1-b9ee-691b25b41a15",
   "metadata": {},
   "outputs": [],
   "source": [
    "l1=[]\n",
    "\n"
   ]
  },
  {
   "cell_type": "code",
   "execution_count": 19,
   "id": "0a85bcca-0579-49aa-93a9-c0324ef5b8da",
   "metadata": {},
   "outputs": [],
   "source": [
    "l1.append(l[0]+1)\n"
   ]
  },
  {
   "cell_type": "code",
   "execution_count": 20,
   "id": "af7bff92-e4a5-4f9e-b876-b94ead7451ac",
   "metadata": {},
   "outputs": [
    {
     "data": {
      "text/plain": [
       "[2]"
      ]
     },
     "execution_count": 20,
     "metadata": {},
     "output_type": "execute_result"
    }
   ],
   "source": [
    "l1\n",
    " # we want reqire do for every value of list.then what procedure we required?.then easiset way is loop."
   ]
  },
  {
   "cell_type": "code",
   "execution_count": 4,
   "id": "a0c112e3-5753-4a8c-9c4b-1bc05463db33",
   "metadata": {},
   "outputs": [],
   "source": [
    "l=[1,2,3,4,5,6,7,8,9]"
   ]
  },
  {
   "cell_type": "code",
   "execution_count": 8,
   "id": "87ff2ec7-f573-4e40-9997-fbb99f3e39d9",
   "metadata": {},
   "outputs": [
    {
     "data": {
      "text/plain": [
       "[1, 2, 3, 4, 5, 6, 7, 8, 9]"
      ]
     },
     "execution_count": 8,
     "metadata": {},
     "output_type": "execute_result"
    }
   ],
   "source": [
    "l"
   ]
  },
  {
   "cell_type": "code",
   "execution_count": 14,
   "id": "e81407ef-5ad2-47b9-bb28-181c8315043f",
   "metadata": {},
   "outputs": [
    {
     "name": "stdout",
     "output_type": "stream",
     "text": [
      "2\n",
      "3\n",
      "4\n",
      "5\n",
      "6\n",
      "7\n",
      "8\n",
      "9\n",
      "10\n"
     ]
    },
    {
     "data": {
      "text/plain": [
       "[2, 3, 4, 5, 6, 7, 8, 9, 10]"
      ]
     },
     "execution_count": 14,
     "metadata": {},
     "output_type": "execute_result"
    }
   ],
   "source": [
    "l1=[]\n",
    "for i in l:\n",
    "    print(i+1)\n",
    "    l1.append(i+1)\n",
    "l1\n",
    "    "
   ]
  },
  {
   "cell_type": "code",
   "execution_count": 15,
   "id": "ebbe773d-498f-4f06-bb02-cb7804289b69",
   "metadata": {},
   "outputs": [],
   "source": [
    "l=[\"sart\",\"shud\",\"kris\",\"pwskills\"]"
   ]
  },
  {
   "cell_type": "code",
   "execution_count": 18,
   "id": "b8454a3b-6d61-4883-b0f1-9ae256bac473",
   "metadata": {},
   "outputs": [
    {
     "name": "stdout",
     "output_type": "stream",
     "text": [
      "sart\n",
      "shud\n",
      "kris\n",
      "pwskills\n"
     ]
    }
   ],
   "source": [
    "l1=[]\n",
    "for i in l:\n",
    "    print(i)\n",
    "    l1.append(i.upper())"
   ]
  },
  {
   "cell_type": "code",
   "execution_count": 19,
   "id": "94ce3a82-b244-477c-b8bb-27237ac27e18",
   "metadata": {},
   "outputs": [
    {
     "data": {
      "text/plain": [
       "['SART', 'SHUD', 'KRIS', 'PWSKILLS']"
      ]
     },
     "execution_count": 19,
     "metadata": {},
     "output_type": "execute_result"
    }
   ],
   "source": [
    "l1"
   ]
  },
  {
   "cell_type": "code",
   "execution_count": 20,
   "id": "110c4d5f-03ab-4f95-8c5f-7316b39e19a1",
   "metadata": {},
   "outputs": [],
   "source": [
    "l=[1,2,3,4,5,\"sart\",\"kumar\",1.2,312,\"shud\"]"
   ]
  },
  {
   "cell_type": "code",
   "execution_count": 26,
   "id": "5297c93f-0124-4604-9c30-4e69da0e15b4",
   "metadata": {},
   "outputs": [],
   "source": [
    "l1_num=[]\n",
    "l2_string=[]\n",
    "for i in l:\n",
    "    if type(i) == int or type(i) == float:\n",
    "        l1_num.append(i)\n",
    "    else:\n",
    "        l2_string.append(i)\n",
    "    \n",
    "    "
   ]
  },
  {
   "cell_type": "code",
   "execution_count": 27,
   "id": "b0237fe1-ed55-4a46-8970-2db77e4e9b96",
   "metadata": {},
   "outputs": [
    {
     "data": {
      "text/plain": [
       "[1, 2, 3, 4, 5, 1.2, 312]"
      ]
     },
     "execution_count": 27,
     "metadata": {},
     "output_type": "execute_result"
    }
   ],
   "source": [
    "l1_num\n"
   ]
  },
  {
   "cell_type": "code",
   "execution_count": 28,
   "id": "6ad14305-7501-481a-9ed0-0f0f01d9ff10",
   "metadata": {},
   "outputs": [
    {
     "data": {
      "text/plain": [
       "['sart', 'kumar', 'shud']"
      ]
     },
     "execution_count": 28,
     "metadata": {},
     "output_type": "execute_result"
    }
   ],
   "source": [
    "l2_string"
   ]
  },
  {
   "cell_type": "code",
   "execution_count": null,
   "id": "57e703ff-88e3-4ebb-ba62-cc65e8dcfeba",
   "metadata": {},
   "outputs": [],
   "source": []
  }
 ],
 "metadata": {
  "kernelspec": {
   "display_name": "Python 3 (ipykernel)",
   "language": "python",
   "name": "python3"
  },
  "language_info": {
   "codemirror_mode": {
    "name": "ipython",
    "version": 3
   },
   "file_extension": ".py",
   "mimetype": "text/x-python",
   "name": "python",
   "nbconvert_exporter": "python",
   "pygments_lexer": "ipython3",
   "version": "3.10.8"
  }
 },
 "nbformat": 4,
 "nbformat_minor": 5
}
